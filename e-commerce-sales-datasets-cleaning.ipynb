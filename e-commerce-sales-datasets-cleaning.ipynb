{
 "cells": [
  {
   "cell_type": "markdown",
   "id": "49711f2e",
   "metadata": {
    "papermill": {
     "duration": 0.012749,
     "end_time": "2023-01-05T13:01:41.276675",
     "exception": false,
     "start_time": "2023-01-05T13:01:41.263926",
     "status": "completed"
    },
    "tags": []
   },
   "source": [
    "##### **Note:** *Suggestions and Advice are very much welcome and will be sincerely appreciated* 😃"
   ]
  },
  {
   "cell_type": "markdown",
   "id": "c3fd9059",
   "metadata": {
    "papermill": {
     "duration": 0.010288,
     "end_time": "2023-01-05T13:01:41.298868",
     "exception": false,
     "start_time": "2023-01-05T13:01:41.288580",
     "status": "completed"
    },
    "tags": []
   },
   "source": [
    "## Import relevant libraries"
   ]
  },
  {
   "cell_type": "code",
   "execution_count": 1,
   "id": "cd3a9cfc",
   "metadata": {
    "execution": {
     "iopub.execute_input": "2023-01-05T13:01:41.325828Z",
     "iopub.status.busy": "2023-01-05T13:01:41.325283Z",
     "iopub.status.idle": "2023-01-05T13:01:41.337084Z",
     "shell.execute_reply": "2023-01-05T13:01:41.335895Z"
    },
    "papermill": {
     "duration": 0.030007,
     "end_time": "2023-01-05T13:01:41.340175",
     "exception": false,
     "start_time": "2023-01-05T13:01:41.310168",
     "status": "completed"
    },
    "tags": []
   },
   "outputs": [],
   "source": [
    "import pandas as pd\n",
    "import numpy as np\n",
    "import glob\n",
    "import warnings\n",
    "warnings.simplefilter(\"ignore\", pd.core.common.SettingWithCopyWarning)"
   ]
  },
  {
   "cell_type": "code",
   "execution_count": 2,
   "id": "73511e70",
   "metadata": {
    "execution": {
     "iopub.execute_input": "2023-01-05T13:01:41.365126Z",
     "iopub.status.busy": "2023-01-05T13:01:41.364608Z",
     "iopub.status.idle": "2023-01-05T13:01:43.754570Z",
     "shell.execute_reply": "2023-01-05T13:01:43.753249Z"
    },
    "papermill": {
     "duration": 2.406813,
     "end_time": "2023-01-05T13:01:43.757982",
     "exception": false,
     "start_time": "2023-01-05T13:01:41.351169",
     "status": "completed"
    },
    "tags": []
   },
   "outputs": [
    {
     "name": "stdout",
     "output_type": "stream",
     "text": [
      "The names of all 7 pandas dataframes are:\n",
      "\n",
      "amazonsalereport\n",
      "cloudwarehousecompersionchart\n",
      "may2022\n",
      "plmarch2021\n",
      "internationalsalereport\n",
      "expenseiigf\n",
      "salereport\n"
     ]
    }
   ],
   "source": [
    "# load the filepaths to all the .csv files in a list\n",
    "filepath_list = glob.glob(\n",
    "    \"/kaggle/input/unlock-profits-with-e-commerce-sales-data/*.csv\")\n",
    "\n",
    "# extract and store file names without spaces in a list\n",
    "# this is to use for assigning dataframes\n",
    "file_list = [element.split(\"data/\")[1]for element in filepath_list]\n",
    "file_list = [\"\".join(element.split(\" \")).split(\".\")[0].replace(\"-\",\"\").lower()\n",
    "                       for element in file_list] \n",
    "\n",
    "\n",
    "# extract the datasets from parent location and assigned \n",
    "# them to the corresponding dataframe variables from file_list\n",
    "for element in filepath_list:  \n",
    "    # read to pandas dataframe from  element in filepath_list to df\n",
    "    df = pd.read_csv(element, low_memory=False)\n",
    "\n",
    "    # assign the dataframe df to variable with corresponding name\n",
    "    globals()[\n",
    "        file_list[filepath_list.index(element)]\n",
    "    ] = df \n",
    "\n",
    "print(f\"The names of all {len(file_list)} pandas dataframes are:\\n\")\n",
    "\n",
    "for dataframe in file_list:\n",
    "      print(dataframe)"
   ]
  },
  {
   "cell_type": "markdown",
   "id": "c3e3f94d",
   "metadata": {
    "papermill": {
     "duration": 0.010517,
     "end_time": "2023-01-05T13:01:43.781024",
     "exception": false,
     "start_time": "2023-01-05T13:01:43.770507",
     "status": "completed"
    },
    "tags": []
   },
   "source": [
    "### <br>Function for cleaning the dataset/dataframe \"amazonsalereport\""
   ]
  },
  {
   "cell_type": "code",
   "execution_count": 3,
   "id": "0f388b6e",
   "metadata": {
    "execution": {
     "iopub.execute_input": "2023-01-05T13:01:43.805062Z",
     "iopub.status.busy": "2023-01-05T13:01:43.804639Z",
     "iopub.status.idle": "2023-01-05T13:01:43.820954Z",
     "shell.execute_reply": "2023-01-05T13:01:43.819682Z"
    },
    "papermill": {
     "duration": 0.032088,
     "end_time": "2023-01-05T13:01:43.824014",
     "exception": false,
     "start_time": "2023-01-05T13:01:43.791926",
     "status": "completed"
    },
    "tags": []
   },
   "outputs": [],
   "source": [
    "def wrangle_amazonsalereport(dataframe):\n",
    "    \n",
    "    # copy dataframe to df for wrangling\n",
    "    df = dataframe.copy()\n",
    "    \n",
    "    #clean the column names\n",
    "    col = [element.lower().replace(\" \",\"\").replace(\"-\",\"\") for element in df.columns]\n",
    "    df.columns = col\n",
    "\n",
    "    # change the dtype of col \"Date\" to datetime dtype\n",
    "    df[\"date\"] = pd.to_datetime(df[\"date\"])\n",
    "    \n",
    "    # drop the redundant cols in the dataset\n",
    "    df.drop([\"index\",\"fulfilledby\",\"currency\",\"unnamed:22\",\"promotionids\",\"courierstatus\",\"shipcountry\"],\n",
    "            axis =\"columns\", inplace = True)\n",
    "    \n",
    "    # rename col \"amount\" to \"amount(Rs.)\"\n",
    "    df.rename(columns = {\"amount\":\"amount(Rs.)\"}, inplace = True)\n",
    "    \n",
    "    # fill value \"unknown\" in rows where location (city and state) is not known \n",
    "    df[\"shipstate\"].fillna(\"unknown\", inplace = True)\n",
    "    df[\"shipcity\"].fillna(\"unknown\", inplace = True)\n",
    "    \n",
    "    # fill value 0 in rows where postalcode is null\n",
    "    df[\"shippostalcode\"].fillna(0, inplace = True)\n",
    "    \n",
    "    #change dtype of postalcode to object\n",
    "    df[\"shippostalcode\"] = df[\"shippostalcode\"].astype(int).astype(object)\n",
    "    \n",
    "    # clean the col shipstate to atain a 37 unique values i.e.\n",
    "    # (28 states + 8 UT + 1 as \"UNKNOWN\")\n",
    "    df[\"shipstate\"] = df[\"shipstate\"].str.upper()\n",
    "    df[\"shipstate\"].replace({\"PONDICHERRY\":\"PUDUCHERRY\",\"RAJSHTHAN\":\"RAJASTHAN\",\"RAJSTHAN\":\"RAJASTHAN\",\n",
    "                              \"RJ\":\"RAJASTHAN\",\"PB\":\"PUNJAB\",\"PUNJAB/MOHALI/ZIRAKPUR\":\"PUNJAB\",\n",
    "                              \"ORISSA\":\"ODISHA\",\"DELHI\":\"NEW DELHI\",\"NL\":\"UNKNOWN\",\"APO\":\"UNKNOWN\",\n",
    "                              \"AR\":\"UNKNOWN\"}, inplace = True)\n",
    "    \n",
    "    # change the char in col \"category\" to uppercase \n",
    "    df[\"category\"] = df[\"category\"].str.upper()\n",
    "    \n",
    "    # qty and amount value \"0\" is illogical in any order purchased\n",
    "    # therefore, replace 0s in columns \"qty\" and \"amount\" with \"NaN\"\n",
    "    df[[\"amount(Rs.)\",\"qty\"]] = df[[\"amount(Rs.)\",\"qty\"]].replace(0,np.nan)\n",
    "    \n",
    "    # drop duplicate rows,if any\n",
    "    df.drop_duplicates(inplace = True)\n",
    "    \n",
    "    # return cleaned data\n",
    "    return df.reset_index(drop = True)"
   ]
  },
  {
   "cell_type": "markdown",
   "id": "992bb815",
   "metadata": {
    "execution": {
     "iopub.execute_input": "2022-12-31T05:57:19.101067Z",
     "iopub.status.busy": "2022-12-31T05:57:19.100613Z",
     "iopub.status.idle": "2022-12-31T05:57:19.107085Z",
     "shell.execute_reply": "2022-12-31T05:57:19.105126Z",
     "shell.execute_reply.started": "2022-12-31T05:57:19.101014Z"
    },
    "papermill": {
     "duration": 0.010972,
     "end_time": "2023-01-05T13:01:43.845660",
     "exception": false,
     "start_time": "2023-01-05T13:01:43.834688",
     "status": "completed"
    },
    "tags": []
   },
   "source": [
    "### <br>Check the function ***wrangle_amazonsalereport()*** by printing head()"
   ]
  },
  {
   "cell_type": "code",
   "execution_count": 4,
   "id": "c1a5ace2",
   "metadata": {
    "execution": {
     "iopub.execute_input": "2023-01-05T13:01:43.871239Z",
     "iopub.status.busy": "2023-01-05T13:01:43.870743Z",
     "iopub.status.idle": "2023-01-05T13:01:44.690156Z",
     "shell.execute_reply": "2023-01-05T13:01:44.689212Z"
    },
    "papermill": {
     "duration": 0.839425,
     "end_time": "2023-01-05T13:01:44.696152",
     "exception": false,
     "start_time": "2023-01-05T13:01:43.856727",
     "status": "completed"
    },
    "tags": []
   },
   "outputs": [
    {
     "name": "stdout",
     "output_type": "stream",
     "text": [
      "<class 'pandas.core.frame.DataFrame'>\n",
      "RangeIndex: 128969 entries, 0 to 128968\n",
      "Data columns (total 17 columns):\n",
      " #   Column            Non-Null Count   Dtype         \n",
      "---  ------            --------------   -----         \n",
      " 0   orderid           128969 non-null  object        \n",
      " 1   date              128969 non-null  datetime64[ns]\n",
      " 2   status            128969 non-null  object        \n",
      " 3   fulfilment        128969 non-null  object        \n",
      " 4   saleschannel      128969 non-null  object        \n",
      " 5   shipservicelevel  128969 non-null  object        \n",
      " 6   style             128969 non-null  object        \n",
      " 7   sku               128969 non-null  object        \n",
      " 8   category          128969 non-null  object        \n",
      " 9   size              128969 non-null  object        \n",
      " 10  asin              128969 non-null  object        \n",
      " 11  qty               116165 non-null  float64       \n",
      " 12  amount(Rs.)       118834 non-null  float64       \n",
      " 13  shipcity          128969 non-null  object        \n",
      " 14  shipstate         128969 non-null  object        \n",
      " 15  shippostalcode    128969 non-null  object        \n",
      " 16  b2b               128969 non-null  bool          \n",
      "dtypes: bool(1), datetime64[ns](1), float64(2), object(13)\n",
      "memory usage: 15.9+ MB\n"
     ]
    },
    {
     "data": {
      "text/html": [
       "<div>\n",
       "<style scoped>\n",
       "    .dataframe tbody tr th:only-of-type {\n",
       "        vertical-align: middle;\n",
       "    }\n",
       "\n",
       "    .dataframe tbody tr th {\n",
       "        vertical-align: top;\n",
       "    }\n",
       "\n",
       "    .dataframe thead th {\n",
       "        text-align: right;\n",
       "    }\n",
       "</style>\n",
       "<table border=\"1\" class=\"dataframe\">\n",
       "  <thead>\n",
       "    <tr style=\"text-align: right;\">\n",
       "      <th></th>\n",
       "      <th>orderid</th>\n",
       "      <th>date</th>\n",
       "      <th>status</th>\n",
       "      <th>fulfilment</th>\n",
       "      <th>saleschannel</th>\n",
       "      <th>shipservicelevel</th>\n",
       "      <th>style</th>\n",
       "      <th>sku</th>\n",
       "      <th>category</th>\n",
       "      <th>size</th>\n",
       "      <th>asin</th>\n",
       "      <th>qty</th>\n",
       "      <th>amount(Rs.)</th>\n",
       "      <th>shipcity</th>\n",
       "      <th>shipstate</th>\n",
       "      <th>shippostalcode</th>\n",
       "      <th>b2b</th>\n",
       "    </tr>\n",
       "  </thead>\n",
       "  <tbody>\n",
       "    <tr>\n",
       "      <th>0</th>\n",
       "      <td>405-8078784-5731545</td>\n",
       "      <td>2022-04-30</td>\n",
       "      <td>Cancelled</td>\n",
       "      <td>Merchant</td>\n",
       "      <td>Amazon.in</td>\n",
       "      <td>Standard</td>\n",
       "      <td>SET389</td>\n",
       "      <td>SET389-KR-NP-S</td>\n",
       "      <td>SET</td>\n",
       "      <td>S</td>\n",
       "      <td>B09KXVBD7Z</td>\n",
       "      <td>NaN</td>\n",
       "      <td>647.62</td>\n",
       "      <td>MUMBAI</td>\n",
       "      <td>MAHARASHTRA</td>\n",
       "      <td>400081</td>\n",
       "      <td>False</td>\n",
       "    </tr>\n",
       "    <tr>\n",
       "      <th>1</th>\n",
       "      <td>171-9198151-1101146</td>\n",
       "      <td>2022-04-30</td>\n",
       "      <td>Shipped - Delivered to Buyer</td>\n",
       "      <td>Merchant</td>\n",
       "      <td>Amazon.in</td>\n",
       "      <td>Standard</td>\n",
       "      <td>JNE3781</td>\n",
       "      <td>JNE3781-KR-XXXL</td>\n",
       "      <td>KURTA</td>\n",
       "      <td>3XL</td>\n",
       "      <td>B09K3WFS32</td>\n",
       "      <td>1.0</td>\n",
       "      <td>406.00</td>\n",
       "      <td>BENGALURU</td>\n",
       "      <td>KARNATAKA</td>\n",
       "      <td>560085</td>\n",
       "      <td>False</td>\n",
       "    </tr>\n",
       "    <tr>\n",
       "      <th>2</th>\n",
       "      <td>404-0687676-7273146</td>\n",
       "      <td>2022-04-30</td>\n",
       "      <td>Shipped</td>\n",
       "      <td>Amazon</td>\n",
       "      <td>Amazon.in</td>\n",
       "      <td>Expedited</td>\n",
       "      <td>JNE3371</td>\n",
       "      <td>JNE3371-KR-XL</td>\n",
       "      <td>KURTA</td>\n",
       "      <td>XL</td>\n",
       "      <td>B07WV4JV4D</td>\n",
       "      <td>1.0</td>\n",
       "      <td>329.00</td>\n",
       "      <td>NAVI MUMBAI</td>\n",
       "      <td>MAHARASHTRA</td>\n",
       "      <td>410210</td>\n",
       "      <td>True</td>\n",
       "    </tr>\n",
       "    <tr>\n",
       "      <th>3</th>\n",
       "      <td>403-9615377-8133951</td>\n",
       "      <td>2022-04-30</td>\n",
       "      <td>Cancelled</td>\n",
       "      <td>Merchant</td>\n",
       "      <td>Amazon.in</td>\n",
       "      <td>Standard</td>\n",
       "      <td>J0341</td>\n",
       "      <td>J0341-DR-L</td>\n",
       "      <td>WESTERN DRESS</td>\n",
       "      <td>L</td>\n",
       "      <td>B099NRCT7B</td>\n",
       "      <td>NaN</td>\n",
       "      <td>753.33</td>\n",
       "      <td>PUDUCHERRY</td>\n",
       "      <td>PUDUCHERRY</td>\n",
       "      <td>605008</td>\n",
       "      <td>False</td>\n",
       "    </tr>\n",
       "    <tr>\n",
       "      <th>4</th>\n",
       "      <td>407-1069790-7240320</td>\n",
       "      <td>2022-04-30</td>\n",
       "      <td>Shipped</td>\n",
       "      <td>Amazon</td>\n",
       "      <td>Amazon.in</td>\n",
       "      <td>Expedited</td>\n",
       "      <td>JNE3671</td>\n",
       "      <td>JNE3671-TU-XXXL</td>\n",
       "      <td>TOP</td>\n",
       "      <td>3XL</td>\n",
       "      <td>B098714BZP</td>\n",
       "      <td>1.0</td>\n",
       "      <td>574.00</td>\n",
       "      <td>CHENNAI</td>\n",
       "      <td>TAMIL NADU</td>\n",
       "      <td>600073</td>\n",
       "      <td>False</td>\n",
       "    </tr>\n",
       "  </tbody>\n",
       "</table>\n",
       "</div>"
      ],
      "text/plain": [
       "               orderid       date                        status fulfilment  \\\n",
       "0  405-8078784-5731545 2022-04-30                     Cancelled   Merchant   \n",
       "1  171-9198151-1101146 2022-04-30  Shipped - Delivered to Buyer   Merchant   \n",
       "2  404-0687676-7273146 2022-04-30                       Shipped     Amazon   \n",
       "3  403-9615377-8133951 2022-04-30                     Cancelled   Merchant   \n",
       "4  407-1069790-7240320 2022-04-30                       Shipped     Amazon   \n",
       "\n",
       "  saleschannel shipservicelevel    style              sku       category size  \\\n",
       "0    Amazon.in         Standard   SET389   SET389-KR-NP-S            SET    S   \n",
       "1    Amazon.in         Standard  JNE3781  JNE3781-KR-XXXL          KURTA  3XL   \n",
       "2    Amazon.in        Expedited  JNE3371    JNE3371-KR-XL          KURTA   XL   \n",
       "3    Amazon.in         Standard    J0341       J0341-DR-L  WESTERN DRESS    L   \n",
       "4    Amazon.in        Expedited  JNE3671  JNE3671-TU-XXXL            TOP  3XL   \n",
       "\n",
       "         asin  qty  amount(Rs.)     shipcity    shipstate shippostalcode  \\\n",
       "0  B09KXVBD7Z  NaN       647.62       MUMBAI  MAHARASHTRA         400081   \n",
       "1  B09K3WFS32  1.0       406.00    BENGALURU    KARNATAKA         560085   \n",
       "2  B07WV4JV4D  1.0       329.00  NAVI MUMBAI  MAHARASHTRA         410210   \n",
       "3  B099NRCT7B  NaN       753.33   PUDUCHERRY   PUDUCHERRY         605008   \n",
       "4  B098714BZP  1.0       574.00      CHENNAI   TAMIL NADU         600073   \n",
       "\n",
       "     b2b  \n",
       "0  False  \n",
       "1  False  \n",
       "2   True  \n",
       "3  False  \n",
       "4  False  "
      ]
     },
     "execution_count": 4,
     "metadata": {},
     "output_type": "execute_result"
    }
   ],
   "source": [
    "amazonsalereport_clean = wrangle_amazonsalereport(amazonsalereport)\n",
    "amazonsalereport_clean.info()\n",
    "amazonsalereport_clean.head()"
   ]
  },
  {
   "cell_type": "markdown",
   "id": "a57463b8",
   "metadata": {
    "papermill": {
     "duration": 0.012837,
     "end_time": "2023-01-05T13:01:44.721637",
     "exception": false,
     "start_time": "2023-01-05T13:01:44.708800",
     "status": "completed"
    },
    "tags": []
   },
   "source": [
    "### Export the clean data to csv file named **\"amazon_sale_report_clean.csv\"** in the current directory"
   ]
  },
  {
   "cell_type": "code",
   "execution_count": 5,
   "id": "cf55fc2c",
   "metadata": {
    "execution": {
     "iopub.execute_input": "2023-01-05T13:01:44.748727Z",
     "iopub.status.busy": "2023-01-05T13:01:44.748284Z",
     "iopub.status.idle": "2023-01-05T13:01:46.332651Z",
     "shell.execute_reply": "2023-01-05T13:01:46.331451Z"
    },
    "papermill": {
     "duration": 1.601058,
     "end_time": "2023-01-05T13:01:46.335463",
     "exception": false,
     "start_time": "2023-01-05T13:01:44.734405",
     "status": "completed"
    },
    "tags": []
   },
   "outputs": [],
   "source": [
    "amazonsalereport_clean.to_csv(\"amazon_sale_report_clean.csv\", index = False)"
   ]
  },
  {
   "cell_type": "markdown",
   "id": "865293b2",
   "metadata": {
    "execution": {
     "iopub.execute_input": "2022-12-31T06:07:31.780630Z",
     "iopub.status.busy": "2022-12-31T06:07:31.780150Z",
     "iopub.status.idle": "2022-12-31T06:07:31.789302Z",
     "shell.execute_reply": "2022-12-31T06:07:31.788252Z",
     "shell.execute_reply.started": "2022-12-31T06:07:31.780591Z"
    },
    "papermill": {
     "duration": 0.011488,
     "end_time": "2023-01-05T13:01:46.358735",
     "exception": false,
     "start_time": "2023-01-05T13:01:46.347247",
     "status": "completed"
    },
    "tags": []
   },
   "source": [
    "### <br>Function for cleaning the dataset/dataframe **internationalsalereport**"
   ]
  },
  {
   "cell_type": "code",
   "execution_count": 6,
   "id": "6f79923d",
   "metadata": {
    "execution": {
     "iopub.execute_input": "2023-01-05T13:01:46.383253Z",
     "iopub.status.busy": "2023-01-05T13:01:46.382839Z",
     "iopub.status.idle": "2023-01-05T13:01:46.397059Z",
     "shell.execute_reply": "2023-01-05T13:01:46.395196Z"
    },
    "papermill": {
     "duration": 0.030077,
     "end_time": "2023-01-05T13:01:46.400103",
     "exception": false,
     "start_time": "2023-01-05T13:01:46.370026",
     "status": "completed"
    },
    "tags": []
   },
   "outputs": [],
   "source": [
    "def wrangle_internationalsalereport(dataframe):\n",
    "    \n",
    "    # copy dataframe into df\n",
    "    df = dataframe.copy()\n",
    "    \n",
    "    # drop rows with nan\n",
    "    df = df.dropna()\n",
    "    \n",
    "    # drop col name \"index\"\n",
    "    df.drop(\"index\", axis = \"columns\", inplace = True)\n",
    "    \n",
    "    # two dataframes,one with rows with mismatched cols and other without mismatched cols\n",
    "    mismatched_df = df[(df[\"DATE\"].str.slice(-1) == \"1\") |\n",
    "                        (df[\"DATE\"].str.slice(-1) == \"2\") == False].reset_index(drop = True)\n",
    "    proper_df = df[(df[\"DATE\"].str.slice(-1) == \"1\") |\n",
    "                    (df[\"DATE\"].str.slice(-1) == \"2\") == True].reset_index(drop = True)\n",
    "    \n",
    "    # correct the column names of the mismatched_df and drop the first row (redundant)\n",
    "    mismatched_df.columns = ['CUSTOMER', 'DATE', 'Months', 'Style', 'SKU', 'PCS', 'RATE', 'GROSS AMT',\n",
    "       'Stock']\n",
    "    mismatched_df = mismatched_df.drop(0)\n",
    "    \n",
    "    #clean the col \"Stock\" \n",
    "    mismatched_df[\"Stock\"] = (mismatched_df[\"Stock\"].astype(str)\n",
    "                              .str.split(\".\",expand = True).iloc[:,0].astype(int))\n",
    "    \n",
    "    # append distorted_df to proper_df: in this case it's pandas concat()\n",
    "    df = pd.concat([proper_df,mismatched_df])\n",
    "    \n",
    "    # clean the cols names\n",
    "    df.columns = [element.lower().replace(\" \",\"\")for element in df.columns]\n",
    "    \n",
    "    # change the dtype of date to datetime\n",
    "    df[\"date\"] = pd.to_datetime(df[\"date\"])\n",
    "    \n",
    "    #change the datatype of pcs, rate and grossamt\n",
    "    df[[\"rate\",\"grossamt\"]] = df[[\"rate\",\"grossamt\"]].astype(float)\n",
    "    df[\"pcs\"] = df[\"pcs\"].astype(str).str.split(\".\",expand = True).iloc[:,0].astype(int)\n",
    "    \n",
    "    # drop duplicates,if any\n",
    "    df.drop_duplicates(inplace = True)\n",
    "    \n",
    "    #change the dtype of Dat\n",
    "    return df.reset_index(drop = True)\n",
    "    "
   ]
  },
  {
   "cell_type": "markdown",
   "id": "37e53c88",
   "metadata": {
    "papermill": {
     "duration": 0.01068,
     "end_time": "2023-01-05T13:01:46.422257",
     "exception": false,
     "start_time": "2023-01-05T13:01:46.411577",
     "status": "completed"
    },
    "tags": []
   },
   "source": [
    "### <br>Check the function ***wrangle_internationalsalereport()*** by printing head()"
   ]
  },
  {
   "cell_type": "code",
   "execution_count": 7,
   "id": "368e65ec",
   "metadata": {
    "execution": {
     "iopub.execute_input": "2023-01-05T13:01:46.447211Z",
     "iopub.status.busy": "2023-01-05T13:01:46.446813Z",
     "iopub.status.idle": "2023-01-05T13:01:46.851403Z",
     "shell.execute_reply": "2023-01-05T13:01:46.849817Z"
    },
    "papermill": {
     "duration": 0.420611,
     "end_time": "2023-01-05T13:01:46.854060",
     "exception": false,
     "start_time": "2023-01-05T13:01:46.433449",
     "status": "completed"
    },
    "tags": []
   },
   "outputs": [
    {
     "name": "stdout",
     "output_type": "stream",
     "text": [
      "<class 'pandas.core.frame.DataFrame'>\n",
      "RangeIndex: 22115 entries, 0 to 22114\n",
      "Data columns (total 10 columns):\n",
      " #   Column    Non-Null Count  Dtype         \n",
      "---  ------    --------------  -----         \n",
      " 0   date      22115 non-null  datetime64[ns]\n",
      " 1   months    22115 non-null  object        \n",
      " 2   customer  22115 non-null  object        \n",
      " 3   style     22115 non-null  object        \n",
      " 4   sku       22115 non-null  object        \n",
      " 5   size      10943 non-null  object        \n",
      " 6   pcs       22115 non-null  int64         \n",
      " 7   rate      22115 non-null  float64       \n",
      " 8   grossamt  22115 non-null  float64       \n",
      " 9   stock     11172 non-null  float64       \n",
      "dtypes: datetime64[ns](1), float64(3), int64(1), object(5)\n",
      "memory usage: 1.7+ MB\n"
     ]
    },
    {
     "data": {
      "text/html": [
       "<div>\n",
       "<style scoped>\n",
       "    .dataframe tbody tr th:only-of-type {\n",
       "        vertical-align: middle;\n",
       "    }\n",
       "\n",
       "    .dataframe tbody tr th {\n",
       "        vertical-align: top;\n",
       "    }\n",
       "\n",
       "    .dataframe thead th {\n",
       "        text-align: right;\n",
       "    }\n",
       "</style>\n",
       "<table border=\"1\" class=\"dataframe\">\n",
       "  <thead>\n",
       "    <tr style=\"text-align: right;\">\n",
       "      <th></th>\n",
       "      <th>date</th>\n",
       "      <th>months</th>\n",
       "      <th>customer</th>\n",
       "      <th>style</th>\n",
       "      <th>sku</th>\n",
       "      <th>size</th>\n",
       "      <th>pcs</th>\n",
       "      <th>rate</th>\n",
       "      <th>grossamt</th>\n",
       "      <th>stock</th>\n",
       "    </tr>\n",
       "  </thead>\n",
       "  <tbody>\n",
       "    <tr>\n",
       "      <th>0</th>\n",
       "      <td>2021-06-05</td>\n",
       "      <td>Jun-21</td>\n",
       "      <td>REVATHY LOGANATHAN</td>\n",
       "      <td>MEN5004</td>\n",
       "      <td>MEN5004-KR-L</td>\n",
       "      <td>L</td>\n",
       "      <td>1</td>\n",
       "      <td>616.56</td>\n",
       "      <td>617.0</td>\n",
       "      <td>NaN</td>\n",
       "    </tr>\n",
       "    <tr>\n",
       "      <th>1</th>\n",
       "      <td>2021-06-05</td>\n",
       "      <td>Jun-21</td>\n",
       "      <td>REVATHY LOGANATHAN</td>\n",
       "      <td>MEN5004</td>\n",
       "      <td>MEN5004-KR-XL</td>\n",
       "      <td>XL</td>\n",
       "      <td>1</td>\n",
       "      <td>616.56</td>\n",
       "      <td>617.0</td>\n",
       "      <td>NaN</td>\n",
       "    </tr>\n",
       "    <tr>\n",
       "      <th>2</th>\n",
       "      <td>2021-06-05</td>\n",
       "      <td>Jun-21</td>\n",
       "      <td>REVATHY LOGANATHAN</td>\n",
       "      <td>MEN5004</td>\n",
       "      <td>MEN5004-KR-XXL</td>\n",
       "      <td>XXL</td>\n",
       "      <td>1</td>\n",
       "      <td>616.56</td>\n",
       "      <td>617.0</td>\n",
       "      <td>NaN</td>\n",
       "    </tr>\n",
       "    <tr>\n",
       "      <th>3</th>\n",
       "      <td>2021-06-05</td>\n",
       "      <td>Jun-21</td>\n",
       "      <td>REVATHY LOGANATHAN</td>\n",
       "      <td>MEN5009</td>\n",
       "      <td>MEN5009-KR-L</td>\n",
       "      <td>L</td>\n",
       "      <td>1</td>\n",
       "      <td>616.56</td>\n",
       "      <td>617.0</td>\n",
       "      <td>NaN</td>\n",
       "    </tr>\n",
       "    <tr>\n",
       "      <th>4</th>\n",
       "      <td>2021-06-05</td>\n",
       "      <td>Jun-21</td>\n",
       "      <td>REVATHY LOGANATHAN</td>\n",
       "      <td>MEN5011</td>\n",
       "      <td>MEN5011-KR-L</td>\n",
       "      <td>L</td>\n",
       "      <td>1</td>\n",
       "      <td>616.56</td>\n",
       "      <td>617.0</td>\n",
       "      <td>NaN</td>\n",
       "    </tr>\n",
       "  </tbody>\n",
       "</table>\n",
       "</div>"
      ],
      "text/plain": [
       "        date  months            customer    style             sku size  pcs  \\\n",
       "0 2021-06-05  Jun-21  REVATHY LOGANATHAN  MEN5004    MEN5004-KR-L    L    1   \n",
       "1 2021-06-05  Jun-21  REVATHY LOGANATHAN  MEN5004   MEN5004-KR-XL   XL    1   \n",
       "2 2021-06-05  Jun-21  REVATHY LOGANATHAN  MEN5004  MEN5004-KR-XXL  XXL    1   \n",
       "3 2021-06-05  Jun-21  REVATHY LOGANATHAN  MEN5009    MEN5009-KR-L    L    1   \n",
       "4 2021-06-05  Jun-21  REVATHY LOGANATHAN  MEN5011    MEN5011-KR-L    L    1   \n",
       "\n",
       "     rate  grossamt  stock  \n",
       "0  616.56     617.0    NaN  \n",
       "1  616.56     617.0    NaN  \n",
       "2  616.56     617.0    NaN  \n",
       "3  616.56     617.0    NaN  \n",
       "4  616.56     617.0    NaN  "
      ]
     },
     "execution_count": 7,
     "metadata": {},
     "output_type": "execute_result"
    }
   ],
   "source": [
    "internationalsalereport_clean = wrangle_internationalsalereport(internationalsalereport)\n",
    "internationalsalereport_clean.info()\n",
    "internationalsalereport_clean.head()"
   ]
  },
  {
   "cell_type": "markdown",
   "id": "019980e4",
   "metadata": {
    "papermill": {
     "duration": 0.011739,
     "end_time": "2023-01-05T13:01:46.878725",
     "exception": false,
     "start_time": "2023-01-05T13:01:46.866986",
     "status": "completed"
    },
    "tags": []
   },
   "source": [
    "### Export the clean data to csv file named ***\"international_sale_report_clean.csv\"*** in the current directory"
   ]
  },
  {
   "cell_type": "code",
   "execution_count": 8,
   "id": "e247b7f0",
   "metadata": {
    "execution": {
     "iopub.execute_input": "2023-01-05T13:01:46.904181Z",
     "iopub.status.busy": "2023-01-05T13:01:46.903743Z",
     "iopub.status.idle": "2023-01-05T13:01:47.128973Z",
     "shell.execute_reply": "2023-01-05T13:01:47.127695Z"
    },
    "papermill": {
     "duration": 0.241766,
     "end_time": "2023-01-05T13:01:47.132193",
     "exception": false,
     "start_time": "2023-01-05T13:01:46.890427",
     "status": "completed"
    },
    "tags": []
   },
   "outputs": [],
   "source": [
    "internationalsalereport_clean.to_csv(\"international_sale_report_clean.csv\", index = False)"
   ]
  },
  {
   "cell_type": "markdown",
   "id": "d21a7c27",
   "metadata": {
    "papermill": {
     "duration": 0.011604,
     "end_time": "2023-01-05T13:01:47.155676",
     "exception": false,
     "start_time": "2023-01-05T13:01:47.144072",
     "status": "completed"
    },
    "tags": []
   },
   "source": [
    "### <br>Function for cleaning the dataset/dataframe **salereport**"
   ]
  },
  {
   "cell_type": "code",
   "execution_count": 9,
   "id": "71b13a7b",
   "metadata": {
    "execution": {
     "iopub.execute_input": "2023-01-05T13:01:47.181599Z",
     "iopub.status.busy": "2023-01-05T13:01:47.181147Z",
     "iopub.status.idle": "2023-01-05T13:01:47.189427Z",
     "shell.execute_reply": "2023-01-05T13:01:47.188161Z"
    },
    "papermill": {
     "duration": 0.024004,
     "end_time": "2023-01-05T13:01:47.191906",
     "exception": false,
     "start_time": "2023-01-05T13:01:47.167902",
     "status": "completed"
    },
    "tags": []
   },
   "outputs": [],
   "source": [
    "def wrangle_salereport(dataframe):\n",
    "    \n",
    "    #copy data. Also drop nan\n",
    "    df = dataframe.copy()\n",
    "    df.dropna(inplace = True)\n",
    "    \n",
    "    #drop redundant column \"index\"\n",
    "    df.drop(\"index\", axis = \"columns\",inplace = True)\n",
    "    \n",
    "    # rename the col names\n",
    "    df.columns = [element.replace(\" \",\"\").lower() for element in df.columns]\n",
    "    df = df.rename(columns = {\"skucode\":\"sku\"})\n",
    "    \n",
    "    #change the dtype of the column \"Stock\"\n",
    "    df[\"stock\"] = df[\"stock\"].astype(str).str.split(\".\",expand = True).iloc[:,0].astype(int)\n",
    "    \n",
    "    # drop duplicates,if any\n",
    "    df.drop_duplicates(inplace = True)\n",
    "    \n",
    "    #reset the index and return the dataframe    \n",
    "    return df.reset_index(drop = True)"
   ]
  },
  {
   "cell_type": "markdown",
   "id": "8c477dc6",
   "metadata": {
    "papermill": {
     "duration": 0.011595,
     "end_time": "2023-01-05T13:01:47.215158",
     "exception": false,
     "start_time": "2023-01-05T13:01:47.203563",
     "status": "completed"
    },
    "tags": []
   },
   "source": [
    "### Check the function ***wrangle_salereport()*** by printing head()"
   ]
  },
  {
   "cell_type": "code",
   "execution_count": 10,
   "id": "2efb12b9",
   "metadata": {
    "execution": {
     "iopub.execute_input": "2023-01-05T13:01:47.239676Z",
     "iopub.status.busy": "2023-01-05T13:01:47.239261Z",
     "iopub.status.idle": "2023-01-05T13:01:47.304488Z",
     "shell.execute_reply": "2023-01-05T13:01:47.303050Z"
    },
    "papermill": {
     "duration": 0.080843,
     "end_time": "2023-01-05T13:01:47.307565",
     "exception": false,
     "start_time": "2023-01-05T13:01:47.226722",
     "status": "completed"
    },
    "tags": []
   },
   "outputs": [
    {
     "name": "stdout",
     "output_type": "stream",
     "text": [
      "<class 'pandas.core.frame.DataFrame'>\n",
      "RangeIndex: 9185 entries, 0 to 9184\n",
      "Data columns (total 6 columns):\n",
      " #   Column     Non-Null Count  Dtype \n",
      "---  ------     --------------  ----- \n",
      " 0   sku        9185 non-null   object\n",
      " 1   designno.  9185 non-null   object\n",
      " 2   stock      9185 non-null   int64 \n",
      " 3   category   9185 non-null   object\n",
      " 4   size       9185 non-null   object\n",
      " 5   color      9185 non-null   object\n",
      "dtypes: int64(1), object(5)\n",
      "memory usage: 430.7+ KB\n"
     ]
    },
    {
     "data": {
      "text/html": [
       "<div>\n",
       "<style scoped>\n",
       "    .dataframe tbody tr th:only-of-type {\n",
       "        vertical-align: middle;\n",
       "    }\n",
       "\n",
       "    .dataframe tbody tr th {\n",
       "        vertical-align: top;\n",
       "    }\n",
       "\n",
       "    .dataframe thead th {\n",
       "        text-align: right;\n",
       "    }\n",
       "</style>\n",
       "<table border=\"1\" class=\"dataframe\">\n",
       "  <thead>\n",
       "    <tr style=\"text-align: right;\">\n",
       "      <th></th>\n",
       "      <th>sku</th>\n",
       "      <th>designno.</th>\n",
       "      <th>stock</th>\n",
       "      <th>category</th>\n",
       "      <th>size</th>\n",
       "      <th>color</th>\n",
       "    </tr>\n",
       "  </thead>\n",
       "  <tbody>\n",
       "    <tr>\n",
       "      <th>0</th>\n",
       "      <td>AN201-RED-L</td>\n",
       "      <td>AN201</td>\n",
       "      <td>5</td>\n",
       "      <td>AN : LEGGINGS</td>\n",
       "      <td>L</td>\n",
       "      <td>Red</td>\n",
       "    </tr>\n",
       "    <tr>\n",
       "      <th>1</th>\n",
       "      <td>AN201-RED-M</td>\n",
       "      <td>AN201</td>\n",
       "      <td>5</td>\n",
       "      <td>AN : LEGGINGS</td>\n",
       "      <td>M</td>\n",
       "      <td>Red</td>\n",
       "    </tr>\n",
       "    <tr>\n",
       "      <th>2</th>\n",
       "      <td>AN201-RED-S</td>\n",
       "      <td>AN201</td>\n",
       "      <td>3</td>\n",
       "      <td>AN : LEGGINGS</td>\n",
       "      <td>S</td>\n",
       "      <td>Red</td>\n",
       "    </tr>\n",
       "    <tr>\n",
       "      <th>3</th>\n",
       "      <td>AN201-RED-XL</td>\n",
       "      <td>AN201</td>\n",
       "      <td>6</td>\n",
       "      <td>AN : LEGGINGS</td>\n",
       "      <td>XL</td>\n",
       "      <td>Red</td>\n",
       "    </tr>\n",
       "    <tr>\n",
       "      <th>4</th>\n",
       "      <td>AN201-RED-XXL</td>\n",
       "      <td>AN201</td>\n",
       "      <td>3</td>\n",
       "      <td>AN : LEGGINGS</td>\n",
       "      <td>XXL</td>\n",
       "      <td>Red</td>\n",
       "    </tr>\n",
       "  </tbody>\n",
       "</table>\n",
       "</div>"
      ],
      "text/plain": [
       "             sku designno.  stock       category size color\n",
       "0    AN201-RED-L     AN201      5  AN : LEGGINGS    L   Red\n",
       "1    AN201-RED-M     AN201      5  AN : LEGGINGS    M   Red\n",
       "2    AN201-RED-S     AN201      3  AN : LEGGINGS    S   Red\n",
       "3   AN201-RED-XL     AN201      6  AN : LEGGINGS   XL   Red\n",
       "4  AN201-RED-XXL     AN201      3  AN : LEGGINGS  XXL   Red"
      ]
     },
     "execution_count": 10,
     "metadata": {},
     "output_type": "execute_result"
    }
   ],
   "source": [
    "salereport_clean = wrangle_salereport(salereport)\n",
    "salereport_clean.info()\n",
    "salereport_clean.head()"
   ]
  },
  {
   "cell_type": "markdown",
   "id": "ecdd076e",
   "metadata": {
    "papermill": {
     "duration": 0.013397,
     "end_time": "2023-01-05T13:01:47.333144",
     "exception": false,
     "start_time": "2023-01-05T13:01:47.319747",
     "status": "completed"
    },
    "tags": []
   },
   "source": [
    "### Export the cleaned data to csv file named **\"sale_report_clean.csv\"** in the current directory"
   ]
  },
  {
   "cell_type": "code",
   "execution_count": 11,
   "id": "f6d0ffb0",
   "metadata": {
    "execution": {
     "iopub.execute_input": "2023-01-05T13:01:47.359131Z",
     "iopub.status.busy": "2023-01-05T13:01:47.358710Z",
     "iopub.status.idle": "2023-01-05T13:01:47.387320Z",
     "shell.execute_reply": "2023-01-05T13:01:47.386409Z"
    },
    "papermill": {
     "duration": 0.04457,
     "end_time": "2023-01-05T13:01:47.389829",
     "exception": false,
     "start_time": "2023-01-05T13:01:47.345259",
     "status": "completed"
    },
    "tags": []
   },
   "outputs": [],
   "source": [
    "salereport_clean.to_csv(\"sale_report_clean.csv\", index = False)"
   ]
  },
  {
   "cell_type": "markdown",
   "id": "9669120b",
   "metadata": {
    "papermill": {
     "duration": 0.011327,
     "end_time": "2023-01-05T13:01:47.412873",
     "exception": false,
     "start_time": "2023-01-05T13:01:47.401546",
     "status": "completed"
    },
    "tags": []
   },
   "source": [
    "### <br>Function for cleaning the dataset/dataframe **cloudwarehousecompersionchart**"
   ]
  },
  {
   "cell_type": "code",
   "execution_count": 12,
   "id": "28eaeb51",
   "metadata": {
    "execution": {
     "iopub.execute_input": "2023-01-05T13:01:47.439016Z",
     "iopub.status.busy": "2023-01-05T13:01:47.438623Z",
     "iopub.status.idle": "2023-01-05T13:01:47.448595Z",
     "shell.execute_reply": "2023-01-05T13:01:47.447640Z"
    },
    "papermill": {
     "duration": 0.026355,
     "end_time": "2023-01-05T13:01:47.450937",
     "exception": false,
     "start_time": "2023-01-05T13:01:47.424582",
     "status": "completed"
    },
    "tags": []
   },
   "outputs": [],
   "source": [
    "def wrangle_cloudwarehousecompersionchart(dataframe):\n",
    "    \n",
    "    # copy dataframe to pandas df\n",
    "    df = dataframe.copy()\n",
    "    \n",
    "    # select only the relevant rows\n",
    "    df = df.iloc[:5,:]\n",
    "    \n",
    "    # drop redundant col named \"index\"\n",
    "    df.drop(\"index\", axis = 1,inplace = True)\n",
    "    \n",
    "    # rename the col names with relevant names\n",
    "    col = df.columns[[0,2]].tolist()      # list containing 'Shiprocet' and 'INCREFF'\n",
    "    col = [str(element) + \"(Rs./Unit)\" for element in col]\n",
    "    col.insert(0,df.loc[0][0])         # insert 'Heads' as first element in the list col\n",
    "    df.columns= col                    # remane the col names\n",
    "    \n",
    "    # drop redundant first row\n",
    "    df.drop(0,inplace = True)\n",
    "    \n",
    "    # clean the col Shiprocket and change dtype to float\n",
    "    df[\"Shiprocket(Rs./Unit)\"] = df[\"Shiprocket(Rs./Unit)\"].str.slice(start = 1).astype(float)\n",
    "    \n",
    "    # clean the dirty cell in \"INCREFF\" column to extract numeric chars \"0.15\"\n",
    "    first_char = df[\"INCREFF(Rs./Unit)\"].str.slice(stop = 1)  # series of extract of first character\n",
    "    string = [str(element) for element in range(9)] # list containing range(0,9) as string dtype\n",
    "    condition = (first_char.isin(string))  # check first char is in list \"string\"\n",
    "    condition = condition == False         # check first char is not in list \"string\"\n",
    "    # slice the cell to get desired chars\n",
    "    df[\"INCREFF(Rs./Unit)\"][condition] = df[\"INCREFF(Rs./Unit)\"][condition].str.slice(2,7) \n",
    "    \n",
    "    \n",
    "    # clean the col INCREFF and change dtype to float\n",
    "    df[\"INCREFF(Rs./Unit)\"] = df[\"INCREFF(Rs./Unit)\"].astype(float)\n",
    "    \n",
    "    # drop duplicates,if any\n",
    "    df.drop_duplicates(inplace = True)\n",
    "    \n",
    "    #return\n",
    "    return df.reset_index(drop = True)"
   ]
  },
  {
   "cell_type": "markdown",
   "id": "db89ccab",
   "metadata": {
    "papermill": {
     "duration": 0.013421,
     "end_time": "2023-01-05T13:01:47.476219",
     "exception": false,
     "start_time": "2023-01-05T13:01:47.462798",
     "status": "completed"
    },
    "tags": []
   },
   "source": [
    "### <br>Check the function ***wrangle_cloudwarehousecompersionchart()*** by printing head()"
   ]
  },
  {
   "cell_type": "code",
   "execution_count": 13,
   "id": "630f67ba",
   "metadata": {
    "execution": {
     "iopub.execute_input": "2023-01-05T13:01:47.504625Z",
     "iopub.status.busy": "2023-01-05T13:01:47.504103Z",
     "iopub.status.idle": "2023-01-05T13:01:47.539008Z",
     "shell.execute_reply": "2023-01-05T13:01:47.537223Z"
    },
    "papermill": {
     "duration": 0.050935,
     "end_time": "2023-01-05T13:01:47.541512",
     "exception": false,
     "start_time": "2023-01-05T13:01:47.490577",
     "status": "completed"
    },
    "tags": []
   },
   "outputs": [
    {
     "name": "stdout",
     "output_type": "stream",
     "text": [
      "<class 'pandas.core.frame.DataFrame'>\n",
      "RangeIndex: 4 entries, 0 to 3\n",
      "Data columns (total 3 columns):\n",
      " #   Column                Non-Null Count  Dtype  \n",
      "---  ------                --------------  -----  \n",
      " 0   Heads                 4 non-null      object \n",
      " 1   Shiprocket(Rs./Unit)  4 non-null      float64\n",
      " 2   INCREFF(Rs./Unit)     4 non-null      float64\n",
      "dtypes: float64(2), object(1)\n",
      "memory usage: 224.0+ bytes\n"
     ]
    },
    {
     "data": {
      "text/html": [
       "<div>\n",
       "<style scoped>\n",
       "    .dataframe tbody tr th:only-of-type {\n",
       "        vertical-align: middle;\n",
       "    }\n",
       "\n",
       "    .dataframe tbody tr th {\n",
       "        vertical-align: top;\n",
       "    }\n",
       "\n",
       "    .dataframe thead th {\n",
       "        text-align: right;\n",
       "    }\n",
       "</style>\n",
       "<table border=\"1\" class=\"dataframe\">\n",
       "  <thead>\n",
       "    <tr style=\"text-align: right;\">\n",
       "      <th></th>\n",
       "      <th>Heads</th>\n",
       "      <th>Shiprocket(Rs./Unit)</th>\n",
       "      <th>INCREFF(Rs./Unit)</th>\n",
       "    </tr>\n",
       "  </thead>\n",
       "  <tbody>\n",
       "    <tr>\n",
       "      <th>0</th>\n",
       "      <td>Inbound (Fresh Stock and RTO)</td>\n",
       "      <td>4.0</td>\n",
       "      <td>4.00</td>\n",
       "    </tr>\n",
       "    <tr>\n",
       "      <th>1</th>\n",
       "      <td>Outbound</td>\n",
       "      <td>7.0</td>\n",
       "      <td>11.00</td>\n",
       "    </tr>\n",
       "    <tr>\n",
       "      <th>2</th>\n",
       "      <td>Storage Fee/Cft</td>\n",
       "      <td>25.0</td>\n",
       "      <td>0.15</td>\n",
       "    </tr>\n",
       "    <tr>\n",
       "      <th>3</th>\n",
       "      <td>Customer Return with Detailed QC</td>\n",
       "      <td>6.0</td>\n",
       "      <td>15.50</td>\n",
       "    </tr>\n",
       "  </tbody>\n",
       "</table>\n",
       "</div>"
      ],
      "text/plain": [
       "                              Heads  Shiprocket(Rs./Unit)  INCREFF(Rs./Unit)\n",
       "0     Inbound (Fresh Stock and RTO)                   4.0               4.00\n",
       "1                          Outbound                   7.0              11.00\n",
       "2                   Storage Fee/Cft                  25.0               0.15\n",
       "3  Customer Return with Detailed QC                   6.0              15.50"
      ]
     },
     "execution_count": 13,
     "metadata": {},
     "output_type": "execute_result"
    }
   ],
   "source": [
    "# ignore unwanted warnings on the output\n",
    "warnings.simplefilter(\"ignore\", pd.core.common.SettingWithCopyWarning)\n",
    "\n",
    "cloudwarehousecompersionchart_clean = wrangle_cloudwarehousecompersionchart(cloudwarehousecompersionchart)\n",
    "cloudwarehousecompersionchart_clean.info()\n",
    "cloudwarehousecompersionchart_clean.head()"
   ]
  },
  {
   "cell_type": "markdown",
   "id": "858cff2e",
   "metadata": {
    "papermill": {
     "duration": 0.012123,
     "end_time": "2023-01-05T13:01:47.566318",
     "exception": false,
     "start_time": "2023-01-05T13:01:47.554195",
     "status": "completed"
    },
    "tags": []
   },
   "source": [
    "### <br>Export the cleaned data to csv file named **\"cloudwarehousecompersionchart_clean.csv\"** in the current directory"
   ]
  },
  {
   "cell_type": "code",
   "execution_count": 14,
   "id": "78e2a280",
   "metadata": {
    "execution": {
     "iopub.execute_input": "2023-01-05T13:01:47.592452Z",
     "iopub.status.busy": "2023-01-05T13:01:47.592010Z",
     "iopub.status.idle": "2023-01-05T13:01:47.598856Z",
     "shell.execute_reply": "2023-01-05T13:01:47.597648Z"
    },
    "papermill": {
     "duration": 0.022825,
     "end_time": "2023-01-05T13:01:47.601415",
     "exception": false,
     "start_time": "2023-01-05T13:01:47.578590",
     "status": "completed"
    },
    "tags": []
   },
   "outputs": [],
   "source": [
    "cloudwarehousecompersionchart_clean.to_csv(\"cloudwarehousecompersionchart_clean.csv\",index = False)"
   ]
  },
  {
   "cell_type": "markdown",
   "id": "7c4c2be7",
   "metadata": {
    "papermill": {
     "duration": 0.012317,
     "end_time": "2023-01-05T13:01:47.626748",
     "exception": false,
     "start_time": "2023-01-05T13:01:47.614431",
     "status": "completed"
    },
    "tags": []
   },
   "source": [
    "### <br>Function for cleaning the dataset/dataframe **espenseiigf**"
   ]
  },
  {
   "cell_type": "code",
   "execution_count": 15,
   "id": "34f54a04",
   "metadata": {
    "execution": {
     "iopub.execute_input": "2023-01-05T13:01:47.653783Z",
     "iopub.status.busy": "2023-01-05T13:01:47.652498Z",
     "iopub.status.idle": "2023-01-05T13:01:47.662052Z",
     "shell.execute_reply": "2023-01-05T13:01:47.660442Z"
    },
    "papermill": {
     "duration": 0.02626,
     "end_time": "2023-01-05T13:01:47.665338",
     "exception": false,
     "start_time": "2023-01-05T13:01:47.639078",
     "status": "completed"
    },
    "tags": []
   },
   "outputs": [],
   "source": [
    "def wrangle_expenseiigf(dataframe): \n",
    "    \n",
    "    # copy data to dataframe df\n",
    "    df = dataframe.copy()\n",
    "    \n",
    "    # drop redundant col \"index\"\n",
    "    df.drop(\"index\", axis = \"columns\", inplace = True)\n",
    "    \n",
    "    # rename col names\n",
    "    df.columns = [\"receivedparticular\",\"receivedamount(Rs.)\",\"expenseparticular\",\"expenseamount(Rs.)\"]\n",
    "    \n",
    "    # drop first row (redundant data)\n",
    "    df.drop(0,inplace = True)\n",
    "    \n",
    "    # fill null with proper values\n",
    "    df[\"expenseparticular\"].fillna(\"Total\", inplace = True)\n",
    "    df[\"receivedamount(Rs.)\"].fillna(0, inplace = True)\n",
    "    df[\"receivedparticular\"].fillna(\"unknown\", inplace = True)\n",
    "    \n",
    "    # change the dtype of both amount cols into float\n",
    "    df[[\"receivedamount(Rs.)\",\"expenseamount(Rs.)\"]] = df[[\"receivedamount(Rs.)\",\"expenseamount(Rs.)\"]].astype(float)\n",
    "    \n",
    "    #return with index reset\n",
    "    return df"
   ]
  },
  {
   "cell_type": "markdown",
   "id": "400e90be",
   "metadata": {
    "papermill": {
     "duration": 0.011573,
     "end_time": "2023-01-05T13:01:47.690165",
     "exception": false,
     "start_time": "2023-01-05T13:01:47.678592",
     "status": "completed"
    },
    "tags": []
   },
   "source": [
    "### <br>Check the function ***wrangle_expenseiigf()*** by printing head()"
   ]
  },
  {
   "cell_type": "code",
   "execution_count": 16,
   "id": "bff53fd0",
   "metadata": {
    "execution": {
     "iopub.execute_input": "2023-01-05T13:01:47.717744Z",
     "iopub.status.busy": "2023-01-05T13:01:47.716488Z",
     "iopub.status.idle": "2023-01-05T13:01:47.742893Z",
     "shell.execute_reply": "2023-01-05T13:01:47.740980Z"
    },
    "papermill": {
     "duration": 0.043467,
     "end_time": "2023-01-05T13:01:47.745591",
     "exception": false,
     "start_time": "2023-01-05T13:01:47.702124",
     "status": "completed"
    },
    "tags": []
   },
   "outputs": [
    {
     "name": "stdout",
     "output_type": "stream",
     "text": [
      "<class 'pandas.core.frame.DataFrame'>\n",
      "Int64Index: 16 entries, 1 to 16\n",
      "Data columns (total 4 columns):\n",
      " #   Column               Non-Null Count  Dtype  \n",
      "---  ------               --------------  -----  \n",
      " 0   receivedparticular   16 non-null     object \n",
      " 1   receivedamount(Rs.)  16 non-null     float64\n",
      " 2   expenseparticular    16 non-null     object \n",
      " 3   expenseamount(Rs.)   16 non-null     float64\n",
      "dtypes: float64(2), object(2)\n",
      "memory usage: 640.0+ bytes\n"
     ]
    },
    {
     "data": {
      "text/html": [
       "<div>\n",
       "<style scoped>\n",
       "    .dataframe tbody tr th:only-of-type {\n",
       "        vertical-align: middle;\n",
       "    }\n",
       "\n",
       "    .dataframe tbody tr th {\n",
       "        vertical-align: top;\n",
       "    }\n",
       "\n",
       "    .dataframe thead th {\n",
       "        text-align: right;\n",
       "    }\n",
       "</style>\n",
       "<table border=\"1\" class=\"dataframe\">\n",
       "  <thead>\n",
       "    <tr style=\"text-align: right;\">\n",
       "      <th></th>\n",
       "      <th>receivedparticular</th>\n",
       "      <th>receivedamount(Rs.)</th>\n",
       "      <th>expenseparticular</th>\n",
       "      <th>expenseamount(Rs.)</th>\n",
       "    </tr>\n",
       "  </thead>\n",
       "  <tbody>\n",
       "    <tr>\n",
       "      <th>1</th>\n",
       "      <td>06-19-22</td>\n",
       "      <td>1000.0</td>\n",
       "      <td>Large Bag</td>\n",
       "      <td>380.0</td>\n",
       "    </tr>\n",
       "    <tr>\n",
       "      <th>2</th>\n",
       "      <td>06-20-22</td>\n",
       "      <td>1500.0</td>\n",
       "      <td>Stationary(Soft Pin, Paper pin for Dupatta, Fe...</td>\n",
       "      <td>170.0</td>\n",
       "    </tr>\n",
       "    <tr>\n",
       "      <th>3</th>\n",
       "      <td>06-22-22</td>\n",
       "      <td>500.0</td>\n",
       "      <td>OLA</td>\n",
       "      <td>839.0</td>\n",
       "    </tr>\n",
       "    <tr>\n",
       "      <th>4</th>\n",
       "      <td>06-23-22</td>\n",
       "      <td>2000.0</td>\n",
       "      <td>Auto Rent</td>\n",
       "      <td>520.0</td>\n",
       "    </tr>\n",
       "    <tr>\n",
       "      <th>5</th>\n",
       "      <td>unknown</td>\n",
       "      <td>0.0</td>\n",
       "      <td>TT Fine</td>\n",
       "      <td>500.0</td>\n",
       "    </tr>\n",
       "  </tbody>\n",
       "</table>\n",
       "</div>"
      ],
      "text/plain": [
       "  receivedparticular  receivedamount(Rs.)  \\\n",
       "1           06-19-22               1000.0   \n",
       "2           06-20-22               1500.0   \n",
       "3           06-22-22                500.0   \n",
       "4           06-23-22               2000.0   \n",
       "5            unknown                  0.0   \n",
       "\n",
       "                                   expenseparticular  expenseamount(Rs.)  \n",
       "1                                          Large Bag               380.0  \n",
       "2  Stationary(Soft Pin, Paper pin for Dupatta, Fe...               170.0  \n",
       "3                                                OLA               839.0  \n",
       "4                                          Auto Rent               520.0  \n",
       "5                                            TT Fine               500.0  "
      ]
     },
     "execution_count": 16,
     "metadata": {},
     "output_type": "execute_result"
    }
   ],
   "source": [
    "expenseiigf_clean = wrangle_expenseiigf(expenseiigf)\n",
    "expenseiigf_clean.info()\n",
    "expenseiigf_clean.head()"
   ]
  },
  {
   "cell_type": "markdown",
   "id": "0a4180de",
   "metadata": {
    "papermill": {
     "duration": 0.011856,
     "end_time": "2023-01-05T13:01:47.769864",
     "exception": false,
     "start_time": "2023-01-05T13:01:47.758008",
     "status": "completed"
    },
    "tags": []
   },
   "source": [
    "### <br>Export the cleaned data to csv file named **\"expenseiigf_clean.csv\"** in the current directory"
   ]
  },
  {
   "cell_type": "code",
   "execution_count": 17,
   "id": "a8559732",
   "metadata": {
    "execution": {
     "iopub.execute_input": "2023-01-05T13:01:47.797096Z",
     "iopub.status.busy": "2023-01-05T13:01:47.795899Z",
     "iopub.status.idle": "2023-01-05T13:01:47.802807Z",
     "shell.execute_reply": "2023-01-05T13:01:47.801726Z"
    },
    "papermill": {
     "duration": 0.023628,
     "end_time": "2023-01-05T13:01:47.805895",
     "exception": false,
     "start_time": "2023-01-05T13:01:47.782267",
     "status": "completed"
    },
    "tags": []
   },
   "outputs": [],
   "source": [
    "expenseiigf_clean.to_csv(\"expenseiigf_clean.csv\", index = False)"
   ]
  },
  {
   "cell_type": "markdown",
   "id": "a9b452c2",
   "metadata": {
    "papermill": {
     "duration": 0.013426,
     "end_time": "2023-01-05T13:01:47.831943",
     "exception": false,
     "start_time": "2023-01-05T13:01:47.818517",
     "status": "completed"
    },
    "tags": []
   },
   "source": [
    "### <br>Function for cleaning the dataset/dataframe **may2022**"
   ]
  },
  {
   "cell_type": "code",
   "execution_count": 18,
   "id": "06649c6b",
   "metadata": {
    "execution": {
     "iopub.execute_input": "2023-01-05T13:01:47.861405Z",
     "iopub.status.busy": "2023-01-05T13:01:47.860643Z",
     "iopub.status.idle": "2023-01-05T13:01:47.871429Z",
     "shell.execute_reply": "2023-01-05T13:01:47.870203Z"
    },
    "papermill": {
     "duration": 0.029106,
     "end_time": "2023-01-05T13:01:47.874226",
     "exception": false,
     "start_time": "2023-01-05T13:01:47.845120",
     "status": "completed"
    },
    "tags": []
   },
   "outputs": [],
   "source": [
    "def wrangle_may2022(dataframe,null = True):\n",
    "    \n",
    "    # copy dataframe to df\n",
    "    df = dataframe.copy()\n",
    "    \n",
    "    # drop redundant col named \"index\"\n",
    "    df.drop(\"index\",axis = 1, inplace = True)\n",
    "    \n",
    "    # rename the column names\n",
    "    df.columns = [element.replace(\" \",\"_\").lower() for element in df.columns]\n",
    "    \n",
    "    # dealing with \"Nill\" and \"#VALUE!\" entries in possible float-dtype columns\n",
    "    \n",
    "    # first: replace \"Nill\" and \"#VALUE!\" with integer 0 and change dtype to float\n",
    "    df[['weight', 'tp', 'mrp_old','final_mrp_old',\n",
    "    'ajio_mrp', 'amazon_mrp', 'amazon_fba_mrp',\n",
    "    'flipkart_mrp', 'limeroad_mrp', 'myntra_mrp',\n",
    "    'paytm_mrp','snapdeal_mrp']] = df[['weight', 'tp', 'mrp_old','final_mrp_old',\n",
    "    'ajio_mrp', 'amazon_mrp', 'amazon_fba_mrp',\n",
    "    'flipkart_mrp', 'limeroad_mrp', 'myntra_mrp',\n",
    "    'paytm_mrp','snapdeal_mrp']].replace([\"Nill\",\"#VALUE!\"],0).astype(float)\n",
    "    \n",
    "    # replace both 0 and \"Nill\" to \"NaN\" in all cols\n",
    "    df = df.replace([0,\"Nill\"],np.nan)\n",
    "    \n",
    "    # change the values in \"category\" col to uppercase\n",
    "    df[\"category\"] = df[\"category\"].str.upper()\n",
    "    df[\"sku\"] = df[\"sku\"].str.upper()\n",
    "    df[\"style_id\"] = df[\"style_id\"].str.upper()\n",
    "    \n",
    "    # drop duplicates, if any\n",
    "    df.drop_duplicates(inplace = True)\n",
    "    \n",
    "    # two return options: a dataframe with null and a dataframe without null\n",
    "    if null:\n",
    "        return df.reset_index(drop = True)\n",
    "    else:\n",
    "        return df.dropna().reset_index(drop = True)"
   ]
  },
  {
   "cell_type": "markdown",
   "id": "9562f8a6",
   "metadata": {
    "papermill": {
     "duration": 0.013702,
     "end_time": "2023-01-05T13:01:47.901196",
     "exception": false,
     "start_time": "2023-01-05T13:01:47.887494",
     "status": "completed"
    },
    "tags": []
   },
   "source": [
    "### <br>Check the function ***wrangle_may2022() with null*** by printing head()"
   ]
  },
  {
   "cell_type": "code",
   "execution_count": 19,
   "id": "3a4b6abf",
   "metadata": {
    "execution": {
     "iopub.execute_input": "2023-01-05T13:01:47.929691Z",
     "iopub.status.busy": "2023-01-05T13:01:47.929207Z",
     "iopub.status.idle": "2023-01-05T13:01:47.989011Z",
     "shell.execute_reply": "2023-01-05T13:01:47.987600Z"
    },
    "papermill": {
     "duration": 0.076955,
     "end_time": "2023-01-05T13:01:47.991695",
     "exception": false,
     "start_time": "2023-01-05T13:01:47.914740",
     "status": "completed"
    },
    "tags": []
   },
   "outputs": [
    {
     "name": "stdout",
     "output_type": "stream",
     "text": [
      "<class 'pandas.core.frame.DataFrame'>\n",
      "RangeIndex: 1330 entries, 0 to 1329\n",
      "Data columns (total 16 columns):\n",
      " #   Column          Non-Null Count  Dtype  \n",
      "---  ------          --------------  -----  \n",
      " 0   sku             1330 non-null   object \n",
      " 1   style_id        1330 non-null   object \n",
      " 2   catalog         1257 non-null   object \n",
      " 3   category        1257 non-null   object \n",
      " 4   weight          1257 non-null   float64\n",
      " 5   tp              1324 non-null   float64\n",
      " 6   mrp_old         1293 non-null   float64\n",
      " 7   final_mrp_old   1293 non-null   float64\n",
      " 8   ajio_mrp        1293 non-null   float64\n",
      " 9   amazon_mrp      1293 non-null   float64\n",
      " 10  amazon_fba_mrp  1293 non-null   float64\n",
      " 11  flipkart_mrp    1293 non-null   float64\n",
      " 12  limeroad_mrp    1293 non-null   float64\n",
      " 13  myntra_mrp      1299 non-null   float64\n",
      " 14  paytm_mrp       1293 non-null   float64\n",
      " 15  snapdeal_mrp    1293 non-null   float64\n",
      "dtypes: float64(12), object(4)\n",
      "memory usage: 166.4+ KB\n"
     ]
    },
    {
     "data": {
      "text/html": [
       "<div>\n",
       "<style scoped>\n",
       "    .dataframe tbody tr th:only-of-type {\n",
       "        vertical-align: middle;\n",
       "    }\n",
       "\n",
       "    .dataframe tbody tr th {\n",
       "        vertical-align: top;\n",
       "    }\n",
       "\n",
       "    .dataframe thead th {\n",
       "        text-align: right;\n",
       "    }\n",
       "</style>\n",
       "<table border=\"1\" class=\"dataframe\">\n",
       "  <thead>\n",
       "    <tr style=\"text-align: right;\">\n",
       "      <th></th>\n",
       "      <th>sku</th>\n",
       "      <th>style_id</th>\n",
       "      <th>catalog</th>\n",
       "      <th>category</th>\n",
       "      <th>weight</th>\n",
       "      <th>tp</th>\n",
       "      <th>mrp_old</th>\n",
       "      <th>final_mrp_old</th>\n",
       "      <th>ajio_mrp</th>\n",
       "      <th>amazon_mrp</th>\n",
       "      <th>amazon_fba_mrp</th>\n",
       "      <th>flipkart_mrp</th>\n",
       "      <th>limeroad_mrp</th>\n",
       "      <th>myntra_mrp</th>\n",
       "      <th>paytm_mrp</th>\n",
       "      <th>snapdeal_mrp</th>\n",
       "    </tr>\n",
       "  </thead>\n",
       "  <tbody>\n",
       "    <tr>\n",
       "      <th>0</th>\n",
       "      <td>OS206_3141_S</td>\n",
       "      <td>OS206_3141</td>\n",
       "      <td>Moments</td>\n",
       "      <td>KURTA</td>\n",
       "      <td>0.3</td>\n",
       "      <td>538.0</td>\n",
       "      <td>2178.0</td>\n",
       "      <td>2295.0</td>\n",
       "      <td>2295.0</td>\n",
       "      <td>2295.0</td>\n",
       "      <td>2295.0</td>\n",
       "      <td>2295.0</td>\n",
       "      <td>2295.0</td>\n",
       "      <td>2295.0</td>\n",
       "      <td>2295.0</td>\n",
       "      <td>2295.0</td>\n",
       "    </tr>\n",
       "    <tr>\n",
       "      <th>1</th>\n",
       "      <td>OS206_3141_M</td>\n",
       "      <td>OS206_3141</td>\n",
       "      <td>Moments</td>\n",
       "      <td>KURTA</td>\n",
       "      <td>0.3</td>\n",
       "      <td>538.0</td>\n",
       "      <td>2178.0</td>\n",
       "      <td>2295.0</td>\n",
       "      <td>2295.0</td>\n",
       "      <td>2295.0</td>\n",
       "      <td>2295.0</td>\n",
       "      <td>2295.0</td>\n",
       "      <td>2295.0</td>\n",
       "      <td>2295.0</td>\n",
       "      <td>2295.0</td>\n",
       "      <td>2295.0</td>\n",
       "    </tr>\n",
       "    <tr>\n",
       "      <th>2</th>\n",
       "      <td>OS206_3141_L</td>\n",
       "      <td>OS206_3141</td>\n",
       "      <td>Moments</td>\n",
       "      <td>KURTA</td>\n",
       "      <td>0.3</td>\n",
       "      <td>538.0</td>\n",
       "      <td>2178.0</td>\n",
       "      <td>2295.0</td>\n",
       "      <td>2295.0</td>\n",
       "      <td>2295.0</td>\n",
       "      <td>2295.0</td>\n",
       "      <td>2295.0</td>\n",
       "      <td>2295.0</td>\n",
       "      <td>2295.0</td>\n",
       "      <td>2295.0</td>\n",
       "      <td>2295.0</td>\n",
       "    </tr>\n",
       "    <tr>\n",
       "      <th>3</th>\n",
       "      <td>OS206_3141_XL</td>\n",
       "      <td>OS206_3141</td>\n",
       "      <td>Moments</td>\n",
       "      <td>KURTA</td>\n",
       "      <td>0.3</td>\n",
       "      <td>538.0</td>\n",
       "      <td>2178.0</td>\n",
       "      <td>2295.0</td>\n",
       "      <td>2295.0</td>\n",
       "      <td>2295.0</td>\n",
       "      <td>2295.0</td>\n",
       "      <td>2295.0</td>\n",
       "      <td>2295.0</td>\n",
       "      <td>2295.0</td>\n",
       "      <td>2295.0</td>\n",
       "      <td>2295.0</td>\n",
       "    </tr>\n",
       "    <tr>\n",
       "      <th>4</th>\n",
       "      <td>OS206_3141_2XL</td>\n",
       "      <td>OS206_3141</td>\n",
       "      <td>Moments</td>\n",
       "      <td>KURTA</td>\n",
       "      <td>0.3</td>\n",
       "      <td>538.0</td>\n",
       "      <td>2178.0</td>\n",
       "      <td>2295.0</td>\n",
       "      <td>2295.0</td>\n",
       "      <td>2295.0</td>\n",
       "      <td>2295.0</td>\n",
       "      <td>2295.0</td>\n",
       "      <td>2295.0</td>\n",
       "      <td>2295.0</td>\n",
       "      <td>2295.0</td>\n",
       "      <td>2295.0</td>\n",
       "    </tr>\n",
       "  </tbody>\n",
       "</table>\n",
       "</div>"
      ],
      "text/plain": [
       "              sku    style_id  catalog category  weight     tp  mrp_old  \\\n",
       "0    OS206_3141_S  OS206_3141  Moments    KURTA     0.3  538.0   2178.0   \n",
       "1    OS206_3141_M  OS206_3141  Moments    KURTA     0.3  538.0   2178.0   \n",
       "2    OS206_3141_L  OS206_3141  Moments    KURTA     0.3  538.0   2178.0   \n",
       "3   OS206_3141_XL  OS206_3141  Moments    KURTA     0.3  538.0   2178.0   \n",
       "4  OS206_3141_2XL  OS206_3141  Moments    KURTA     0.3  538.0   2178.0   \n",
       "\n",
       "   final_mrp_old  ajio_mrp  amazon_mrp  amazon_fba_mrp  flipkart_mrp  \\\n",
       "0         2295.0    2295.0      2295.0          2295.0        2295.0   \n",
       "1         2295.0    2295.0      2295.0          2295.0        2295.0   \n",
       "2         2295.0    2295.0      2295.0          2295.0        2295.0   \n",
       "3         2295.0    2295.0      2295.0          2295.0        2295.0   \n",
       "4         2295.0    2295.0      2295.0          2295.0        2295.0   \n",
       "\n",
       "   limeroad_mrp  myntra_mrp  paytm_mrp  snapdeal_mrp  \n",
       "0        2295.0      2295.0     2295.0        2295.0  \n",
       "1        2295.0      2295.0     2295.0        2295.0  \n",
       "2        2295.0      2295.0     2295.0        2295.0  \n",
       "3        2295.0      2295.0     2295.0        2295.0  \n",
       "4        2295.0      2295.0     2295.0        2295.0  "
      ]
     },
     "execution_count": 19,
     "metadata": {},
     "output_type": "execute_result"
    }
   ],
   "source": [
    "may2022_clean_with_null = wrangle_may2022(may2022,null = True)\n",
    "may2022_clean_with_null.info()\n",
    "may2022_clean_with_null.head()"
   ]
  },
  {
   "cell_type": "markdown",
   "id": "bb1f9ac4",
   "metadata": {
    "papermill": {
     "duration": 0.012367,
     "end_time": "2023-01-05T13:01:48.017289",
     "exception": false,
     "start_time": "2023-01-05T13:01:48.004922",
     "status": "completed"
    },
    "tags": []
   },
   "source": [
    "### <br>Check the function ***wrangle_may2022() without null*** by printing head()"
   ]
  },
  {
   "cell_type": "code",
   "execution_count": 20,
   "id": "01115a0a",
   "metadata": {
    "execution": {
     "iopub.execute_input": "2023-01-05T13:01:48.044991Z",
     "iopub.status.busy": "2023-01-05T13:01:48.044561Z",
     "iopub.status.idle": "2023-01-05T13:01:48.103608Z",
     "shell.execute_reply": "2023-01-05T13:01:48.101955Z"
    },
    "papermill": {
     "duration": 0.077015,
     "end_time": "2023-01-05T13:01:48.106859",
     "exception": false,
     "start_time": "2023-01-05T13:01:48.029844",
     "status": "completed"
    },
    "tags": []
   },
   "outputs": [
    {
     "name": "stdout",
     "output_type": "stream",
     "text": [
      "<class 'pandas.core.frame.DataFrame'>\n",
      "RangeIndex: 1221 entries, 0 to 1220\n",
      "Data columns (total 16 columns):\n",
      " #   Column          Non-Null Count  Dtype  \n",
      "---  ------          --------------  -----  \n",
      " 0   sku             1221 non-null   object \n",
      " 1   style_id        1221 non-null   object \n",
      " 2   catalog         1221 non-null   object \n",
      " 3   category        1221 non-null   object \n",
      " 4   weight          1221 non-null   float64\n",
      " 5   tp              1221 non-null   float64\n",
      " 6   mrp_old         1221 non-null   float64\n",
      " 7   final_mrp_old   1221 non-null   float64\n",
      " 8   ajio_mrp        1221 non-null   float64\n",
      " 9   amazon_mrp      1221 non-null   float64\n",
      " 10  amazon_fba_mrp  1221 non-null   float64\n",
      " 11  flipkart_mrp    1221 non-null   float64\n",
      " 12  limeroad_mrp    1221 non-null   float64\n",
      " 13  myntra_mrp      1221 non-null   float64\n",
      " 14  paytm_mrp       1221 non-null   float64\n",
      " 15  snapdeal_mrp    1221 non-null   float64\n",
      "dtypes: float64(12), object(4)\n",
      "memory usage: 152.8+ KB\n"
     ]
    },
    {
     "data": {
      "text/html": [
       "<div>\n",
       "<style scoped>\n",
       "    .dataframe tbody tr th:only-of-type {\n",
       "        vertical-align: middle;\n",
       "    }\n",
       "\n",
       "    .dataframe tbody tr th {\n",
       "        vertical-align: top;\n",
       "    }\n",
       "\n",
       "    .dataframe thead th {\n",
       "        text-align: right;\n",
       "    }\n",
       "</style>\n",
       "<table border=\"1\" class=\"dataframe\">\n",
       "  <thead>\n",
       "    <tr style=\"text-align: right;\">\n",
       "      <th></th>\n",
       "      <th>sku</th>\n",
       "      <th>style_id</th>\n",
       "      <th>catalog</th>\n",
       "      <th>category</th>\n",
       "      <th>weight</th>\n",
       "      <th>tp</th>\n",
       "      <th>mrp_old</th>\n",
       "      <th>final_mrp_old</th>\n",
       "      <th>ajio_mrp</th>\n",
       "      <th>amazon_mrp</th>\n",
       "      <th>amazon_fba_mrp</th>\n",
       "      <th>flipkart_mrp</th>\n",
       "      <th>limeroad_mrp</th>\n",
       "      <th>myntra_mrp</th>\n",
       "      <th>paytm_mrp</th>\n",
       "      <th>snapdeal_mrp</th>\n",
       "    </tr>\n",
       "  </thead>\n",
       "  <tbody>\n",
       "    <tr>\n",
       "      <th>0</th>\n",
       "      <td>OS206_3141_S</td>\n",
       "      <td>OS206_3141</td>\n",
       "      <td>Moments</td>\n",
       "      <td>KURTA</td>\n",
       "      <td>0.3</td>\n",
       "      <td>538.0</td>\n",
       "      <td>2178.0</td>\n",
       "      <td>2295.0</td>\n",
       "      <td>2295.0</td>\n",
       "      <td>2295.0</td>\n",
       "      <td>2295.0</td>\n",
       "      <td>2295.0</td>\n",
       "      <td>2295.0</td>\n",
       "      <td>2295.0</td>\n",
       "      <td>2295.0</td>\n",
       "      <td>2295.0</td>\n",
       "    </tr>\n",
       "    <tr>\n",
       "      <th>1</th>\n",
       "      <td>OS206_3141_M</td>\n",
       "      <td>OS206_3141</td>\n",
       "      <td>Moments</td>\n",
       "      <td>KURTA</td>\n",
       "      <td>0.3</td>\n",
       "      <td>538.0</td>\n",
       "      <td>2178.0</td>\n",
       "      <td>2295.0</td>\n",
       "      <td>2295.0</td>\n",
       "      <td>2295.0</td>\n",
       "      <td>2295.0</td>\n",
       "      <td>2295.0</td>\n",
       "      <td>2295.0</td>\n",
       "      <td>2295.0</td>\n",
       "      <td>2295.0</td>\n",
       "      <td>2295.0</td>\n",
       "    </tr>\n",
       "    <tr>\n",
       "      <th>2</th>\n",
       "      <td>OS206_3141_L</td>\n",
       "      <td>OS206_3141</td>\n",
       "      <td>Moments</td>\n",
       "      <td>KURTA</td>\n",
       "      <td>0.3</td>\n",
       "      <td>538.0</td>\n",
       "      <td>2178.0</td>\n",
       "      <td>2295.0</td>\n",
       "      <td>2295.0</td>\n",
       "      <td>2295.0</td>\n",
       "      <td>2295.0</td>\n",
       "      <td>2295.0</td>\n",
       "      <td>2295.0</td>\n",
       "      <td>2295.0</td>\n",
       "      <td>2295.0</td>\n",
       "      <td>2295.0</td>\n",
       "    </tr>\n",
       "    <tr>\n",
       "      <th>3</th>\n",
       "      <td>OS206_3141_XL</td>\n",
       "      <td>OS206_3141</td>\n",
       "      <td>Moments</td>\n",
       "      <td>KURTA</td>\n",
       "      <td>0.3</td>\n",
       "      <td>538.0</td>\n",
       "      <td>2178.0</td>\n",
       "      <td>2295.0</td>\n",
       "      <td>2295.0</td>\n",
       "      <td>2295.0</td>\n",
       "      <td>2295.0</td>\n",
       "      <td>2295.0</td>\n",
       "      <td>2295.0</td>\n",
       "      <td>2295.0</td>\n",
       "      <td>2295.0</td>\n",
       "      <td>2295.0</td>\n",
       "    </tr>\n",
       "    <tr>\n",
       "      <th>4</th>\n",
       "      <td>OS206_3141_2XL</td>\n",
       "      <td>OS206_3141</td>\n",
       "      <td>Moments</td>\n",
       "      <td>KURTA</td>\n",
       "      <td>0.3</td>\n",
       "      <td>538.0</td>\n",
       "      <td>2178.0</td>\n",
       "      <td>2295.0</td>\n",
       "      <td>2295.0</td>\n",
       "      <td>2295.0</td>\n",
       "      <td>2295.0</td>\n",
       "      <td>2295.0</td>\n",
       "      <td>2295.0</td>\n",
       "      <td>2295.0</td>\n",
       "      <td>2295.0</td>\n",
       "      <td>2295.0</td>\n",
       "    </tr>\n",
       "  </tbody>\n",
       "</table>\n",
       "</div>"
      ],
      "text/plain": [
       "              sku    style_id  catalog category  weight     tp  mrp_old  \\\n",
       "0    OS206_3141_S  OS206_3141  Moments    KURTA     0.3  538.0   2178.0   \n",
       "1    OS206_3141_M  OS206_3141  Moments    KURTA     0.3  538.0   2178.0   \n",
       "2    OS206_3141_L  OS206_3141  Moments    KURTA     0.3  538.0   2178.0   \n",
       "3   OS206_3141_XL  OS206_3141  Moments    KURTA     0.3  538.0   2178.0   \n",
       "4  OS206_3141_2XL  OS206_3141  Moments    KURTA     0.3  538.0   2178.0   \n",
       "\n",
       "   final_mrp_old  ajio_mrp  amazon_mrp  amazon_fba_mrp  flipkart_mrp  \\\n",
       "0         2295.0    2295.0      2295.0          2295.0        2295.0   \n",
       "1         2295.0    2295.0      2295.0          2295.0        2295.0   \n",
       "2         2295.0    2295.0      2295.0          2295.0        2295.0   \n",
       "3         2295.0    2295.0      2295.0          2295.0        2295.0   \n",
       "4         2295.0    2295.0      2295.0          2295.0        2295.0   \n",
       "\n",
       "   limeroad_mrp  myntra_mrp  paytm_mrp  snapdeal_mrp  \n",
       "0        2295.0      2295.0     2295.0        2295.0  \n",
       "1        2295.0      2295.0     2295.0        2295.0  \n",
       "2        2295.0      2295.0     2295.0        2295.0  \n",
       "3        2295.0      2295.0     2295.0        2295.0  \n",
       "4        2295.0      2295.0     2295.0        2295.0  "
      ]
     },
     "execution_count": 20,
     "metadata": {},
     "output_type": "execute_result"
    }
   ],
   "source": [
    "may2022_clean_without_null = wrangle_may2022(may2022,null = False)\n",
    "may2022_clean_without_null.info()\n",
    "may2022_clean_without_null.head()"
   ]
  },
  {
   "cell_type": "markdown",
   "id": "d3ad32b7",
   "metadata": {
    "papermill": {
     "duration": 0.012869,
     "end_time": "2023-01-05T13:01:48.133000",
     "exception": false,
     "start_time": "2023-01-05T13:01:48.120131",
     "status": "completed"
    },
    "tags": []
   },
   "source": [
    "### <br> Extract both the clean - \n",
    "1. dataframe with null to csv file named \"***may2022_with_null_clean.csv***\"\n",
    "2. dataframe without null to csv file named \"***may2022_without_null_clean.csv***\""
   ]
  },
  {
   "cell_type": "code",
   "execution_count": 21,
   "id": "e28c56b3",
   "metadata": {
    "execution": {
     "iopub.execute_input": "2023-01-05T13:01:48.161218Z",
     "iopub.status.busy": "2023-01-05T13:01:48.160791Z",
     "iopub.status.idle": "2023-01-05T13:01:48.192915Z",
     "shell.execute_reply": "2023-01-05T13:01:48.191468Z"
    },
    "papermill": {
     "duration": 0.049818,
     "end_time": "2023-01-05T13:01:48.195874",
     "exception": false,
     "start_time": "2023-01-05T13:01:48.146056",
     "status": "completed"
    },
    "tags": []
   },
   "outputs": [],
   "source": [
    "may2022_clean_with_null.to_csv(\"may2022_with_null_clean.csv\", index = False)\n",
    "may2022_clean_without_null.to_csv(\"may2022_without_null_clean.csv\", index = False)"
   ]
  },
  {
   "cell_type": "markdown",
   "id": "d15b33db",
   "metadata": {
    "papermill": {
     "duration": 0.012884,
     "end_time": "2023-01-05T13:01:48.221988",
     "exception": false,
     "start_time": "2023-01-05T13:01:48.209104",
     "status": "completed"
    },
    "tags": []
   },
   "source": [
    "### <br>Function for cleaning the dataset/dataframe **plmarch2021**"
   ]
  },
  {
   "cell_type": "code",
   "execution_count": 22,
   "id": "226c034b",
   "metadata": {
    "execution": {
     "iopub.execute_input": "2023-01-05T13:01:48.252054Z",
     "iopub.status.busy": "2023-01-05T13:01:48.251330Z",
     "iopub.status.idle": "2023-01-05T13:01:48.262716Z",
     "shell.execute_reply": "2023-01-05T13:01:48.261608Z"
    },
    "papermill": {
     "duration": 0.029336,
     "end_time": "2023-01-05T13:01:48.265335",
     "exception": false,
     "start_time": "2023-01-05T13:01:48.235999",
     "status": "completed"
    },
    "tags": []
   },
   "outputs": [],
   "source": [
    "def wrangle_plmarch2021(dataframe,null = True):\n",
    "    \n",
    "    # copy dataframe to df\n",
    "    df = dataframe.copy()\n",
    "    \n",
    "    # drop redundant col named \"index\"\n",
    "    df.drop(\"index\", axis = 1, inplace = True)\n",
    "    \n",
    "    # rename the col names\n",
    "    df.columns = [element.replace(\" \",\"_\").lower() for element in df.columns]\n",
    "    \n",
    "    # values of \"sku\" and \"stype_id\" cols to upper case\n",
    "    df[\"sku\"] = df[\"sku\"].str.upper()\n",
    "    df[\"style_id\"] = df[\"style_id\"].str.upper()\n",
    "    \n",
    "    # dealing with \"Nill\" and \"#VALUE!\" entries in possible float-dtype columns\n",
    "    \n",
    "    # first: replace \"Nill\" and \"#VALUE!\" with integer 0 and change dtype to float\n",
    "    df[['weight', 'tp_1', 'tp_2',\n",
    "    'mrp_old','final_mrp_old',\n",
    "    'ajio_mrp', 'amazon_mrp',\n",
    "   'amazon_fba_mrp','flipkart_mrp',\n",
    "    'limeroad_mrp','myntra_mrp',\n",
    "    'paytm_mrp','snapdeal_mrp']] = df[['weight', 'tp_1', 'tp_2','mrp_old',\n",
    "    'final_mrp_old', 'ajio_mrp', 'amazon_mrp',\n",
    "    'amazon_fba_mrp','flipkart_mrp', 'limeroad_mrp',\n",
    "    'myntra_mrp', 'paytm_mrp','snapdeal_mrp']].replace([\"#VALUE!\",\"Nill\"],0).astype(float)\n",
    "    \n",
    "    # replace both 0 and \"Nill\" to \"NaN\" (null)\n",
    "    df = df.replace([0,\"Nill\"],np.nan)\n",
    "    \n",
    "    # drop duplicates, if any\n",
    "    df.drop_duplicates(inplace = True)\n",
    "    \n",
    "    # change the values in \"category\" col to uppercase\n",
    "    df[\"category\"] = df[\"category\"].str.upper()\n",
    "    \n",
    "    # two return options: a dataframe with null and other dataframe without null\n",
    "    if null:\n",
    "        return df.reset_index(drop = True)\n",
    "    else:\n",
    "        return df.dropna().reset_index(drop = True)"
   ]
  },
  {
   "cell_type": "markdown",
   "id": "261952b4",
   "metadata": {
    "papermill": {
     "duration": 0.013208,
     "end_time": "2023-01-05T13:01:48.291871",
     "exception": false,
     "start_time": "2023-01-05T13:01:48.278663",
     "status": "completed"
    },
    "tags": []
   },
   "source": [
    " ### <br>Check the function ***wrangle_plmarch2021() with null*** by printing head()"
   ]
  },
  {
   "cell_type": "code",
   "execution_count": 23,
   "id": "8be45ae9",
   "metadata": {
    "execution": {
     "iopub.execute_input": "2023-01-05T13:01:48.321333Z",
     "iopub.status.busy": "2023-01-05T13:01:48.320649Z",
     "iopub.status.idle": "2023-01-05T13:01:48.382756Z",
     "shell.execute_reply": "2023-01-05T13:01:48.380972Z"
    },
    "papermill": {
     "duration": 0.080851,
     "end_time": "2023-01-05T13:01:48.386357",
     "exception": false,
     "start_time": "2023-01-05T13:01:48.305506",
     "status": "completed"
    },
    "tags": []
   },
   "outputs": [
    {
     "name": "stdout",
     "output_type": "stream",
     "text": [
      "<class 'pandas.core.frame.DataFrame'>\n",
      "RangeIndex: 1330 entries, 0 to 1329\n",
      "Data columns (total 17 columns):\n",
      " #   Column          Non-Null Count  Dtype  \n",
      "---  ------          --------------  -----  \n",
      " 0   sku             1330 non-null   object \n",
      " 1   style_id        1330 non-null   object \n",
      " 2   catalog         1257 non-null   object \n",
      " 3   category        1257 non-null   object \n",
      " 4   weight          1257 non-null   float64\n",
      " 5   tp_1            1324 non-null   float64\n",
      " 6   tp_2            1324 non-null   float64\n",
      " 7   mrp_old         1293 non-null   float64\n",
      " 8   final_mrp_old   1293 non-null   float64\n",
      " 9   ajio_mrp        1293 non-null   float64\n",
      " 10  amazon_mrp      1293 non-null   float64\n",
      " 11  amazon_fba_mrp  1293 non-null   float64\n",
      " 12  flipkart_mrp    1293 non-null   float64\n",
      " 13  limeroad_mrp    1293 non-null   float64\n",
      " 14  myntra_mrp      1299 non-null   float64\n",
      " 15  paytm_mrp       1293 non-null   float64\n",
      " 16  snapdeal_mrp    1293 non-null   float64\n",
      "dtypes: float64(13), object(4)\n",
      "memory usage: 176.8+ KB\n"
     ]
    },
    {
     "data": {
      "text/html": [
       "<div>\n",
       "<style scoped>\n",
       "    .dataframe tbody tr th:only-of-type {\n",
       "        vertical-align: middle;\n",
       "    }\n",
       "\n",
       "    .dataframe tbody tr th {\n",
       "        vertical-align: top;\n",
       "    }\n",
       "\n",
       "    .dataframe thead th {\n",
       "        text-align: right;\n",
       "    }\n",
       "</style>\n",
       "<table border=\"1\" class=\"dataframe\">\n",
       "  <thead>\n",
       "    <tr style=\"text-align: right;\">\n",
       "      <th></th>\n",
       "      <th>sku</th>\n",
       "      <th>style_id</th>\n",
       "      <th>catalog</th>\n",
       "      <th>category</th>\n",
       "      <th>weight</th>\n",
       "      <th>tp_1</th>\n",
       "      <th>tp_2</th>\n",
       "      <th>mrp_old</th>\n",
       "      <th>final_mrp_old</th>\n",
       "      <th>ajio_mrp</th>\n",
       "      <th>amazon_mrp</th>\n",
       "      <th>amazon_fba_mrp</th>\n",
       "      <th>flipkart_mrp</th>\n",
       "      <th>limeroad_mrp</th>\n",
       "      <th>myntra_mrp</th>\n",
       "      <th>paytm_mrp</th>\n",
       "      <th>snapdeal_mrp</th>\n",
       "    </tr>\n",
       "  </thead>\n",
       "  <tbody>\n",
       "    <tr>\n",
       "      <th>0</th>\n",
       "      <td>OS206_3141_S</td>\n",
       "      <td>OS206_3141</td>\n",
       "      <td>Moments</td>\n",
       "      <td>KURTA</td>\n",
       "      <td>0.3</td>\n",
       "      <td>538.0</td>\n",
       "      <td>435.78</td>\n",
       "      <td>2178.0</td>\n",
       "      <td>2295.0</td>\n",
       "      <td>2295.0</td>\n",
       "      <td>2295.0</td>\n",
       "      <td>2295.0</td>\n",
       "      <td>2295.0</td>\n",
       "      <td>2295.0</td>\n",
       "      <td>2295.0</td>\n",
       "      <td>2295.0</td>\n",
       "      <td>2295.0</td>\n",
       "    </tr>\n",
       "    <tr>\n",
       "      <th>1</th>\n",
       "      <td>OS206_3141_M</td>\n",
       "      <td>OS206_3141</td>\n",
       "      <td>Moments</td>\n",
       "      <td>KURTA</td>\n",
       "      <td>0.3</td>\n",
       "      <td>538.0</td>\n",
       "      <td>435.78</td>\n",
       "      <td>2178.0</td>\n",
       "      <td>2295.0</td>\n",
       "      <td>2295.0</td>\n",
       "      <td>2295.0</td>\n",
       "      <td>2295.0</td>\n",
       "      <td>2295.0</td>\n",
       "      <td>2295.0</td>\n",
       "      <td>2295.0</td>\n",
       "      <td>2295.0</td>\n",
       "      <td>2295.0</td>\n",
       "    </tr>\n",
       "    <tr>\n",
       "      <th>2</th>\n",
       "      <td>OS206_3141_L</td>\n",
       "      <td>OS206_3141</td>\n",
       "      <td>Moments</td>\n",
       "      <td>KURTA</td>\n",
       "      <td>0.3</td>\n",
       "      <td>538.0</td>\n",
       "      <td>435.78</td>\n",
       "      <td>2178.0</td>\n",
       "      <td>2295.0</td>\n",
       "      <td>2295.0</td>\n",
       "      <td>2295.0</td>\n",
       "      <td>2295.0</td>\n",
       "      <td>2295.0</td>\n",
       "      <td>2295.0</td>\n",
       "      <td>2295.0</td>\n",
       "      <td>2295.0</td>\n",
       "      <td>2295.0</td>\n",
       "    </tr>\n",
       "    <tr>\n",
       "      <th>3</th>\n",
       "      <td>OS206_3141_XL</td>\n",
       "      <td>OS206_3141</td>\n",
       "      <td>Moments</td>\n",
       "      <td>KURTA</td>\n",
       "      <td>0.3</td>\n",
       "      <td>538.0</td>\n",
       "      <td>435.78</td>\n",
       "      <td>2178.0</td>\n",
       "      <td>2295.0</td>\n",
       "      <td>2295.0</td>\n",
       "      <td>2295.0</td>\n",
       "      <td>2295.0</td>\n",
       "      <td>2295.0</td>\n",
       "      <td>2295.0</td>\n",
       "      <td>2295.0</td>\n",
       "      <td>2295.0</td>\n",
       "      <td>2295.0</td>\n",
       "    </tr>\n",
       "    <tr>\n",
       "      <th>4</th>\n",
       "      <td>OS206_3141_2XL</td>\n",
       "      <td>OS206_3141</td>\n",
       "      <td>Moments</td>\n",
       "      <td>KURTA</td>\n",
       "      <td>0.3</td>\n",
       "      <td>538.0</td>\n",
       "      <td>435.78</td>\n",
       "      <td>2178.0</td>\n",
       "      <td>2295.0</td>\n",
       "      <td>2295.0</td>\n",
       "      <td>2295.0</td>\n",
       "      <td>2295.0</td>\n",
       "      <td>2295.0</td>\n",
       "      <td>2295.0</td>\n",
       "      <td>2295.0</td>\n",
       "      <td>2295.0</td>\n",
       "      <td>2295.0</td>\n",
       "    </tr>\n",
       "  </tbody>\n",
       "</table>\n",
       "</div>"
      ],
      "text/plain": [
       "              sku    style_id  catalog category  weight   tp_1    tp_2  \\\n",
       "0    OS206_3141_S  OS206_3141  Moments    KURTA     0.3  538.0  435.78   \n",
       "1    OS206_3141_M  OS206_3141  Moments    KURTA     0.3  538.0  435.78   \n",
       "2    OS206_3141_L  OS206_3141  Moments    KURTA     0.3  538.0  435.78   \n",
       "3   OS206_3141_XL  OS206_3141  Moments    KURTA     0.3  538.0  435.78   \n",
       "4  OS206_3141_2XL  OS206_3141  Moments    KURTA     0.3  538.0  435.78   \n",
       "\n",
       "   mrp_old  final_mrp_old  ajio_mrp  amazon_mrp  amazon_fba_mrp  flipkart_mrp  \\\n",
       "0   2178.0         2295.0    2295.0      2295.0          2295.0        2295.0   \n",
       "1   2178.0         2295.0    2295.0      2295.0          2295.0        2295.0   \n",
       "2   2178.0         2295.0    2295.0      2295.0          2295.0        2295.0   \n",
       "3   2178.0         2295.0    2295.0      2295.0          2295.0        2295.0   \n",
       "4   2178.0         2295.0    2295.0      2295.0          2295.0        2295.0   \n",
       "\n",
       "   limeroad_mrp  myntra_mrp  paytm_mrp  snapdeal_mrp  \n",
       "0        2295.0      2295.0     2295.0        2295.0  \n",
       "1        2295.0      2295.0     2295.0        2295.0  \n",
       "2        2295.0      2295.0     2295.0        2295.0  \n",
       "3        2295.0      2295.0     2295.0        2295.0  \n",
       "4        2295.0      2295.0     2295.0        2295.0  "
      ]
     },
     "execution_count": 23,
     "metadata": {},
     "output_type": "execute_result"
    }
   ],
   "source": [
    "plmarch2021_clean_with_null = wrangle_plmarch2021(plmarch2021,null = True)\n",
    "plmarch2021_clean_with_null.info()\n",
    "plmarch2021_clean_with_null.head()"
   ]
  },
  {
   "cell_type": "markdown",
   "id": "edb4a93a",
   "metadata": {
    "papermill": {
     "duration": 0.013949,
     "end_time": "2023-01-05T13:01:48.414725",
     "exception": false,
     "start_time": "2023-01-05T13:01:48.400776",
     "status": "completed"
    },
    "tags": []
   },
   "source": [
    "### <br>Check the function ***wrangle_plmarch2021() without null*** by printing head()"
   ]
  },
  {
   "cell_type": "code",
   "execution_count": 24,
   "id": "e228fa10",
   "metadata": {
    "execution": {
     "iopub.execute_input": "2023-01-05T13:01:48.445927Z",
     "iopub.status.busy": "2023-01-05T13:01:48.445495Z",
     "iopub.status.idle": "2023-01-05T13:01:48.511932Z",
     "shell.execute_reply": "2023-01-05T13:01:48.510558Z"
    },
    "papermill": {
     "duration": 0.085953,
     "end_time": "2023-01-05T13:01:48.514715",
     "exception": false,
     "start_time": "2023-01-05T13:01:48.428762",
     "status": "completed"
    },
    "tags": []
   },
   "outputs": [
    {
     "name": "stdout",
     "output_type": "stream",
     "text": [
      "<class 'pandas.core.frame.DataFrame'>\n",
      "RangeIndex: 1221 entries, 0 to 1220\n",
      "Data columns (total 17 columns):\n",
      " #   Column          Non-Null Count  Dtype  \n",
      "---  ------          --------------  -----  \n",
      " 0   sku             1221 non-null   object \n",
      " 1   style_id        1221 non-null   object \n",
      " 2   catalog         1221 non-null   object \n",
      " 3   category        1221 non-null   object \n",
      " 4   weight          1221 non-null   float64\n",
      " 5   tp_1            1221 non-null   float64\n",
      " 6   tp_2            1221 non-null   float64\n",
      " 7   mrp_old         1221 non-null   float64\n",
      " 8   final_mrp_old   1221 non-null   float64\n",
      " 9   ajio_mrp        1221 non-null   float64\n",
      " 10  amazon_mrp      1221 non-null   float64\n",
      " 11  amazon_fba_mrp  1221 non-null   float64\n",
      " 12  flipkart_mrp    1221 non-null   float64\n",
      " 13  limeroad_mrp    1221 non-null   float64\n",
      " 14  myntra_mrp      1221 non-null   float64\n",
      " 15  paytm_mrp       1221 non-null   float64\n",
      " 16  snapdeal_mrp    1221 non-null   float64\n",
      "dtypes: float64(13), object(4)\n",
      "memory usage: 162.3+ KB\n"
     ]
    },
    {
     "data": {
      "text/html": [
       "<div>\n",
       "<style scoped>\n",
       "    .dataframe tbody tr th:only-of-type {\n",
       "        vertical-align: middle;\n",
       "    }\n",
       "\n",
       "    .dataframe tbody tr th {\n",
       "        vertical-align: top;\n",
       "    }\n",
       "\n",
       "    .dataframe thead th {\n",
       "        text-align: right;\n",
       "    }\n",
       "</style>\n",
       "<table border=\"1\" class=\"dataframe\">\n",
       "  <thead>\n",
       "    <tr style=\"text-align: right;\">\n",
       "      <th></th>\n",
       "      <th>sku</th>\n",
       "      <th>style_id</th>\n",
       "      <th>catalog</th>\n",
       "      <th>category</th>\n",
       "      <th>weight</th>\n",
       "      <th>tp_1</th>\n",
       "      <th>tp_2</th>\n",
       "      <th>mrp_old</th>\n",
       "      <th>final_mrp_old</th>\n",
       "      <th>ajio_mrp</th>\n",
       "      <th>amazon_mrp</th>\n",
       "      <th>amazon_fba_mrp</th>\n",
       "      <th>flipkart_mrp</th>\n",
       "      <th>limeroad_mrp</th>\n",
       "      <th>myntra_mrp</th>\n",
       "      <th>paytm_mrp</th>\n",
       "      <th>snapdeal_mrp</th>\n",
       "    </tr>\n",
       "  </thead>\n",
       "  <tbody>\n",
       "    <tr>\n",
       "      <th>0</th>\n",
       "      <td>OS206_3141_S</td>\n",
       "      <td>OS206_3141</td>\n",
       "      <td>Moments</td>\n",
       "      <td>KURTA</td>\n",
       "      <td>0.3</td>\n",
       "      <td>538.0</td>\n",
       "      <td>435.78</td>\n",
       "      <td>2178.0</td>\n",
       "      <td>2295.0</td>\n",
       "      <td>2295.0</td>\n",
       "      <td>2295.0</td>\n",
       "      <td>2295.0</td>\n",
       "      <td>2295.0</td>\n",
       "      <td>2295.0</td>\n",
       "      <td>2295.0</td>\n",
       "      <td>2295.0</td>\n",
       "      <td>2295.0</td>\n",
       "    </tr>\n",
       "    <tr>\n",
       "      <th>1</th>\n",
       "      <td>OS206_3141_M</td>\n",
       "      <td>OS206_3141</td>\n",
       "      <td>Moments</td>\n",
       "      <td>KURTA</td>\n",
       "      <td>0.3</td>\n",
       "      <td>538.0</td>\n",
       "      <td>435.78</td>\n",
       "      <td>2178.0</td>\n",
       "      <td>2295.0</td>\n",
       "      <td>2295.0</td>\n",
       "      <td>2295.0</td>\n",
       "      <td>2295.0</td>\n",
       "      <td>2295.0</td>\n",
       "      <td>2295.0</td>\n",
       "      <td>2295.0</td>\n",
       "      <td>2295.0</td>\n",
       "      <td>2295.0</td>\n",
       "    </tr>\n",
       "    <tr>\n",
       "      <th>2</th>\n",
       "      <td>OS206_3141_L</td>\n",
       "      <td>OS206_3141</td>\n",
       "      <td>Moments</td>\n",
       "      <td>KURTA</td>\n",
       "      <td>0.3</td>\n",
       "      <td>538.0</td>\n",
       "      <td>435.78</td>\n",
       "      <td>2178.0</td>\n",
       "      <td>2295.0</td>\n",
       "      <td>2295.0</td>\n",
       "      <td>2295.0</td>\n",
       "      <td>2295.0</td>\n",
       "      <td>2295.0</td>\n",
       "      <td>2295.0</td>\n",
       "      <td>2295.0</td>\n",
       "      <td>2295.0</td>\n",
       "      <td>2295.0</td>\n",
       "    </tr>\n",
       "    <tr>\n",
       "      <th>3</th>\n",
       "      <td>OS206_3141_XL</td>\n",
       "      <td>OS206_3141</td>\n",
       "      <td>Moments</td>\n",
       "      <td>KURTA</td>\n",
       "      <td>0.3</td>\n",
       "      <td>538.0</td>\n",
       "      <td>435.78</td>\n",
       "      <td>2178.0</td>\n",
       "      <td>2295.0</td>\n",
       "      <td>2295.0</td>\n",
       "      <td>2295.0</td>\n",
       "      <td>2295.0</td>\n",
       "      <td>2295.0</td>\n",
       "      <td>2295.0</td>\n",
       "      <td>2295.0</td>\n",
       "      <td>2295.0</td>\n",
       "      <td>2295.0</td>\n",
       "    </tr>\n",
       "    <tr>\n",
       "      <th>4</th>\n",
       "      <td>OS206_3141_2XL</td>\n",
       "      <td>OS206_3141</td>\n",
       "      <td>Moments</td>\n",
       "      <td>KURTA</td>\n",
       "      <td>0.3</td>\n",
       "      <td>538.0</td>\n",
       "      <td>435.78</td>\n",
       "      <td>2178.0</td>\n",
       "      <td>2295.0</td>\n",
       "      <td>2295.0</td>\n",
       "      <td>2295.0</td>\n",
       "      <td>2295.0</td>\n",
       "      <td>2295.0</td>\n",
       "      <td>2295.0</td>\n",
       "      <td>2295.0</td>\n",
       "      <td>2295.0</td>\n",
       "      <td>2295.0</td>\n",
       "    </tr>\n",
       "  </tbody>\n",
       "</table>\n",
       "</div>"
      ],
      "text/plain": [
       "              sku    style_id  catalog category  weight   tp_1    tp_2  \\\n",
       "0    OS206_3141_S  OS206_3141  Moments    KURTA     0.3  538.0  435.78   \n",
       "1    OS206_3141_M  OS206_3141  Moments    KURTA     0.3  538.0  435.78   \n",
       "2    OS206_3141_L  OS206_3141  Moments    KURTA     0.3  538.0  435.78   \n",
       "3   OS206_3141_XL  OS206_3141  Moments    KURTA     0.3  538.0  435.78   \n",
       "4  OS206_3141_2XL  OS206_3141  Moments    KURTA     0.3  538.0  435.78   \n",
       "\n",
       "   mrp_old  final_mrp_old  ajio_mrp  amazon_mrp  amazon_fba_mrp  flipkart_mrp  \\\n",
       "0   2178.0         2295.0    2295.0      2295.0          2295.0        2295.0   \n",
       "1   2178.0         2295.0    2295.0      2295.0          2295.0        2295.0   \n",
       "2   2178.0         2295.0    2295.0      2295.0          2295.0        2295.0   \n",
       "3   2178.0         2295.0    2295.0      2295.0          2295.0        2295.0   \n",
       "4   2178.0         2295.0    2295.0      2295.0          2295.0        2295.0   \n",
       "\n",
       "   limeroad_mrp  myntra_mrp  paytm_mrp  snapdeal_mrp  \n",
       "0        2295.0      2295.0     2295.0        2295.0  \n",
       "1        2295.0      2295.0     2295.0        2295.0  \n",
       "2        2295.0      2295.0     2295.0        2295.0  \n",
       "3        2295.0      2295.0     2295.0        2295.0  \n",
       "4        2295.0      2295.0     2295.0        2295.0  "
      ]
     },
     "execution_count": 24,
     "metadata": {},
     "output_type": "execute_result"
    }
   ],
   "source": [
    "plmarch2021_clean_without_null = wrangle_plmarch2021(plmarch2021,null = False)\n",
    "plmarch2021_clean_without_null.info()\n",
    "plmarch2021_clean_without_null.head()"
   ]
  },
  {
   "cell_type": "markdown",
   "id": "60bec6ed",
   "metadata": {
    "papermill": {
     "duration": 0.013579,
     "end_time": "2023-01-05T13:01:48.542868",
     "exception": false,
     "start_time": "2023-01-05T13:01:48.529289",
     "status": "completed"
    },
    "tags": []
   },
   "source": [
    "### <br> Extract both the clean - \n",
    "1. dataframe with null to csv file named \"***plmarch2021_with_null_clean.csv***\"\n",
    "2. dataframe without null to csv file named \"***plmarch2021_without_null_clean.csv***\""
   ]
  },
  {
   "cell_type": "code",
   "execution_count": 25,
   "id": "29668d7b",
   "metadata": {
    "execution": {
     "iopub.execute_input": "2023-01-05T13:01:48.572389Z",
     "iopub.status.busy": "2023-01-05T13:01:48.571984Z",
     "iopub.status.idle": "2023-01-05T13:01:48.606416Z",
     "shell.execute_reply": "2023-01-05T13:01:48.605204Z"
    },
    "papermill": {
     "duration": 0.052272,
     "end_time": "2023-01-05T13:01:48.609056",
     "exception": false,
     "start_time": "2023-01-05T13:01:48.556784",
     "status": "completed"
    },
    "tags": []
   },
   "outputs": [],
   "source": [
    "plmarch2021_clean_with_null.to_csv(\"plmarch2021_with_null_clean.csv\", index = False)\n",
    "plmarch2021_clean_without_null.to_csv(\"plmarch2021_without_null_clean.csv\", index = False)"
   ]
  },
  {
   "cell_type": "markdown",
   "id": "a0e44ae0",
   "metadata": {
    "papermill": {
     "duration": 0.013418,
     "end_time": "2023-01-05T13:01:48.636987",
     "exception": false,
     "start_time": "2023-01-05T13:01:48.623569",
     "status": "completed"
    },
    "tags": []
   },
   "source": [
    "# Finished"
   ]
  }
 ],
 "metadata": {
  "kernelspec": {
   "display_name": "Python 3",
   "language": "python",
   "name": "python3"
  },
  "language_info": {
   "codemirror_mode": {
    "name": "ipython",
    "version": 3
   },
   "file_extension": ".py",
   "mimetype": "text/x-python",
   "name": "python",
   "nbconvert_exporter": "python",
   "pygments_lexer": "ipython3",
   "version": "3.7.12"
  },
  "papermill": {
   "default_parameters": {},
   "duration": 18.029604,
   "end_time": "2023-01-05T13:01:49.373956",
   "environment_variables": {},
   "exception": null,
   "input_path": "__notebook__.ipynb",
   "output_path": "__notebook__.ipynb",
   "parameters": {},
   "start_time": "2023-01-05T13:01:31.344352",
   "version": "2.3.4"
  }
 },
 "nbformat": 4,
 "nbformat_minor": 5
}
